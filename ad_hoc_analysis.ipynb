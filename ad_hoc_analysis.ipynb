{
  "nbformat": 4,
  "nbformat_minor": 0,
  "metadata": {
    "colab": {
      "name": "ad-hoc-analysis.ipynb",
      "provenance": [],
      "collapsed_sections": [],
      "toc_visible": true,
      "mount_file_id": "1ZmX6uGZZSZiHcHHnl5H1bSYG2CROohAp",
      "authorship_tag": "ABX9TyPJyWllh4/DnPU/1SzPltvy"
    },
    "kernelspec": {
      "name": "python3",
      "display_name": "Python 3"
    },
    "language_info": {
      "name": "python"
    },
    "accelerator": "GPU"
  },
  "cells": [
    {
      "cell_type": "code",
      "metadata": {
        "id": "0KoECesXjI7z"
      },
      "source": [
        "import pandas as pd\n",
        "import matplotlib.pyplot as plt\n",
        "import numpy as np\n",
        "from scipy.stats import chi2_contingency # chi-sqaure test for independence of variables\n",
        "from scipy.stats import f_oneway  # One way analysis of variance\n",
        "import rpy2.robjects.numpy2ri # import package for fisher exact test\n",
        "from rpy2.robjects.packages import importr"
      ],
      "execution_count": 1,
      "outputs": []
    },
    {
      "cell_type": "code",
      "metadata": {
        "id": "iyMZtKQXbODI"
      },
      "source": [
        "df = pd.read_excel('/content/drive/MyDrive/Q2.xlsx')"
      ],
      "execution_count": 2,
      "outputs": []
    },
    {
      "cell_type": "code",
      "metadata": {
        "id": "jg8K_k5CbW-X",
        "colab": {
          "base_uri": "https://localhost:8080/"
        },
        "outputId": "88ffec27-ccaf-4592-b7cd-087a95fc5c51"
      },
      "source": [
        "df.info()"
      ],
      "execution_count": 3,
      "outputs": [
        {
          "output_type": "stream",
          "text": [
            "<class 'pandas.core.frame.DataFrame'>\n",
            "RangeIndex: 662 entries, 0 to 661\n",
            "Data columns (total 9 columns):\n",
            " #   Column            Non-Null Count  Dtype         \n",
            "---  ------            --------------  -----         \n",
            " 0   Created Date      662 non-null    datetime64[ns]\n",
            " 1   Treatment Rating  662 non-null    object        \n",
            " 2   Number of Photos  662 non-null    int64         \n",
            " 3   Number of Words   662 non-null    int64         \n",
            " 4   Provider Rating   644 non-null    float64       \n",
            " 5   Physician Type    547 non-null    object        \n",
            " 6   Treatment Name    662 non-null    object        \n",
            " 7   Title             662 non-null    object        \n",
            " 8   Cost              662 non-null    float64       \n",
            "dtypes: datetime64[ns](1), float64(2), int64(2), object(4)\n",
            "memory usage: 46.7+ KB\n"
          ],
          "name": "stdout"
        }
      ]
    },
    {
      "cell_type": "code",
      "metadata": {
        "colab": {
          "base_uri": "https://localhost:8080/",
          "height": 246
        },
        "id": "tJTgEZbWqRfz",
        "outputId": "02c1d342-6c6c-4993-b724-b33e650927dc"
      },
      "source": [
        "df.head()"
      ],
      "execution_count": 7,
      "outputs": [
        {
          "output_type": "execute_result",
          "data": {
            "text/html": [
              "<div>\n",
              "<style scoped>\n",
              "    .dataframe tbody tr th:only-of-type {\n",
              "        vertical-align: middle;\n",
              "    }\n",
              "\n",
              "    .dataframe tbody tr th {\n",
              "        vertical-align: top;\n",
              "    }\n",
              "\n",
              "    .dataframe thead th {\n",
              "        text-align: right;\n",
              "    }\n",
              "</style>\n",
              "<table border=\"1\" class=\"dataframe\">\n",
              "  <thead>\n",
              "    <tr style=\"text-align: right;\">\n",
              "      <th></th>\n",
              "      <th>Created Date</th>\n",
              "      <th>Treatment Rating</th>\n",
              "      <th>Number of Photos</th>\n",
              "      <th>Number of Words</th>\n",
              "      <th>Provider Rating</th>\n",
              "      <th>Physician Type</th>\n",
              "      <th>Treatment Name</th>\n",
              "      <th>Title</th>\n",
              "      <th>Cost</th>\n",
              "    </tr>\n",
              "  </thead>\n",
              "  <tbody>\n",
              "    <tr>\n",
              "      <th>0</th>\n",
              "      <td>2019-05-31</td>\n",
              "      <td>Worth it</td>\n",
              "      <td>0</td>\n",
              "      <td>109</td>\n",
              "      <td>5.0</td>\n",
              "      <td>Physician</td>\n",
              "      <td>volbella</td>\n",
              "      <td>From Nervous to Loyal Customer in One Visit!</td>\n",
              "      <td>0.0</td>\n",
              "    </tr>\n",
              "    <tr>\n",
              "      <th>1</th>\n",
              "      <td>2019-02-13</td>\n",
              "      <td>Worth it</td>\n",
              "      <td>0</td>\n",
              "      <td>96</td>\n",
              "      <td>5.0</td>\n",
              "      <td>Dermatologic Surgeon</td>\n",
              "      <td>volbella</td>\n",
              "      <td>Dr. Schlessinger did a fantastic job giving me...</td>\n",
              "      <td>0.0</td>\n",
              "    </tr>\n",
              "    <tr>\n",
              "      <th>2</th>\n",
              "      <td>2019-01-13</td>\n",
              "      <td>Worth it</td>\n",
              "      <td>2</td>\n",
              "      <td>93</td>\n",
              "      <td>5.0</td>\n",
              "      <td>Plastic Surgeon</td>\n",
              "      <td>volbella</td>\n",
              "      <td>Amazing Artistry!</td>\n",
              "      <td>0.0</td>\n",
              "    </tr>\n",
              "    <tr>\n",
              "      <th>3</th>\n",
              "      <td>2019-06-30</td>\n",
              "      <td>Worth it</td>\n",
              "      <td>0</td>\n",
              "      <td>80</td>\n",
              "      <td>5.0</td>\n",
              "      <td>Family Physician</td>\n",
              "      <td>volbella</td>\n",
              "      <td>Expert Injector!</td>\n",
              "      <td>0.0</td>\n",
              "    </tr>\n",
              "    <tr>\n",
              "      <th>4</th>\n",
              "      <td>2019-03-21</td>\n",
              "      <td>Not worth it</td>\n",
              "      <td>3</td>\n",
              "      <td>172</td>\n",
              "      <td>NaN</td>\n",
              "      <td>NaN</td>\n",
              "      <td>volbella</td>\n",
              "      <td>Late Reaction to Volbella</td>\n",
              "      <td>750.0</td>\n",
              "    </tr>\n",
              "  </tbody>\n",
              "</table>\n",
              "</div>"
            ],
            "text/plain": [
              "  Created Date  ...   Cost\n",
              "0   2019-05-31  ...    0.0\n",
              "1   2019-02-13  ...    0.0\n",
              "2   2019-01-13  ...    0.0\n",
              "3   2019-06-30  ...    0.0\n",
              "4   2019-03-21  ...  750.0\n",
              "\n",
              "[5 rows x 9 columns]"
            ]
          },
          "metadata": {
            "tags": []
          },
          "execution_count": 7
        }
      ]
    },
    {
      "cell_type": "markdown",
      "metadata": {
        "id": "YV_ctHAn5wvm"
      },
      "source": [
        "## What does each treatment typically cost? "
      ]
    },
    {
      "cell_type": "code",
      "metadata": {
        "colab": {
          "base_uri": "https://localhost:8080/",
          "height": 225
        },
        "id": "bUjeJXrOCD9X",
        "outputId": "b0b68d6e-334d-47bd-f966-cb70b78c23d2"
      },
      "source": [
        "cost_table = df[df['Cost']!=0][['Treatment Name','Cost']].groupby(['Treatment Name']).agg('describe')\n",
        "cost_table"
      ],
      "execution_count": 17,
      "outputs": [
        {
          "output_type": "execute_result",
          "data": {
            "text/html": [
              "<div>\n",
              "<style scoped>\n",
              "    .dataframe tbody tr th:only-of-type {\n",
              "        vertical-align: middle;\n",
              "    }\n",
              "\n",
              "    .dataframe tbody tr th {\n",
              "        vertical-align: top;\n",
              "    }\n",
              "\n",
              "    .dataframe thead tr th {\n",
              "        text-align: left;\n",
              "    }\n",
              "\n",
              "    .dataframe thead tr:last-of-type th {\n",
              "        text-align: right;\n",
              "    }\n",
              "</style>\n",
              "<table border=\"1\" class=\"dataframe\">\n",
              "  <thead>\n",
              "    <tr>\n",
              "      <th></th>\n",
              "      <th colspan=\"8\" halign=\"left\">Cost</th>\n",
              "    </tr>\n",
              "    <tr>\n",
              "      <th></th>\n",
              "      <th>count</th>\n",
              "      <th>mean</th>\n",
              "      <th>std</th>\n",
              "      <th>min</th>\n",
              "      <th>25%</th>\n",
              "      <th>50%</th>\n",
              "      <th>75%</th>\n",
              "      <th>max</th>\n",
              "    </tr>\n",
              "    <tr>\n",
              "      <th>Treatment Name</th>\n",
              "      <th></th>\n",
              "      <th></th>\n",
              "      <th></th>\n",
              "      <th></th>\n",
              "      <th></th>\n",
              "      <th></th>\n",
              "      <th></th>\n",
              "      <th></th>\n",
              "    </tr>\n",
              "  </thead>\n",
              "  <tbody>\n",
              "    <tr>\n",
              "      <th>botox</th>\n",
              "      <td>240.0</td>\n",
              "      <td>464.016292</td>\n",
              "      <td>342.334018</td>\n",
              "      <td>13.0</td>\n",
              "      <td>258.7500</td>\n",
              "      <td>383.50</td>\n",
              "      <td>577.7175</td>\n",
              "      <td>3000.0</td>\n",
              "    </tr>\n",
              "    <tr>\n",
              "      <th>chemical peel</th>\n",
              "      <td>10.0</td>\n",
              "      <td>879.013000</td>\n",
              "      <td>1625.890274</td>\n",
              "      <td>75.0</td>\n",
              "      <td>108.0525</td>\n",
              "      <td>142.50</td>\n",
              "      <td>325.0000</td>\n",
              "      <td>5000.0</td>\n",
              "    </tr>\n",
              "    <tr>\n",
              "      <th>coolmini</th>\n",
              "      <td>8.0</td>\n",
              "      <td>1193.750000</td>\n",
              "      <td>374.583102</td>\n",
              "      <td>750.0</td>\n",
              "      <td>950.0000</td>\n",
              "      <td>1100.00</td>\n",
              "      <td>1500.0000</td>\n",
              "      <td>1800.0</td>\n",
              "    </tr>\n",
              "    <tr>\n",
              "      <th>volbella</th>\n",
              "      <td>10.0</td>\n",
              "      <td>723.512000</td>\n",
              "      <td>545.501897</td>\n",
              "      <td>400.0</td>\n",
              "      <td>449.9850</td>\n",
              "      <td>492.57</td>\n",
              "      <td>737.5000</td>\n",
              "      <td>2200.0</td>\n",
              "    </tr>\n",
              "  </tbody>\n",
              "</table>\n",
              "</div>"
            ],
            "text/plain": [
              "                 Cost                            ...                            \n",
              "                count         mean          std  ...      50%        75%     max\n",
              "Treatment Name                                   ...                            \n",
              "botox           240.0   464.016292   342.334018  ...   383.50   577.7175  3000.0\n",
              "chemical peel    10.0   879.013000  1625.890274  ...   142.50   325.0000  5000.0\n",
              "coolmini          8.0  1193.750000   374.583102  ...  1100.00  1500.0000  1800.0\n",
              "volbella         10.0   723.512000   545.501897  ...   492.57   737.5000  2200.0\n",
              "\n",
              "[4 rows x 8 columns]"
            ]
          },
          "metadata": {
            "tags": []
          },
          "execution_count": 17
        }
      ]
    },
    {
      "cell_type": "markdown",
      "metadata": {
        "id": "t4P9iCrbqWRw"
      },
      "source": [
        "The cost for 394 (out of 662) consumers is 0, and I assume the reason is that all the fees are covered by consumers’ medical insurance. So the typical cost of each treatment will be calculated without 0. Based on the table above, typical cost of each treatment is in the range between lower quartile and upper quartile).\n",
        "\n"
      ]
    },
    {
      "cell_type": "code",
      "metadata": {
        "colab": {
          "base_uri": "https://localhost:8080/"
        },
        "id": "nE7AXtGXreCM",
        "outputId": "2772336b-9979-46fd-9f26-7003f5eb8f25"
      },
      "source": [
        "for i in range(4):\n",
        "  t = cost_table.index[i]\n",
        "  l = np.floor(cost_table['Cost']['25%'][t])\n",
        "  r = np.ceil(cost_table['Cost']['75%'][t])\n",
        "  print('The cost for %s is about %s to %s dollars'%(t,l,r))"
      ],
      "execution_count": 44,
      "outputs": [
        {
          "output_type": "stream",
          "text": [
            "The cost for botox is about 258.0 to 578.0 dollars\n",
            "The cost for chemical peel is about 108.0 to 325.0 dollars\n",
            "The cost for coolmini is about 950.0 to 1500.0 dollars\n",
            "The cost for volbella is about 449.0 to 738.0 dollars\n"
          ],
          "name": "stdout"
        }
      ]
    },
    {
      "cell_type": "markdown",
      "metadata": {
        "id": "_HkJBJO16GCr"
      },
      "source": [
        "##How to display this data to consumers?\n",
        "\n",
        "Usually, the lower price makes consumers happier. "
      ]
    },
    {
      "cell_type": "code",
      "metadata": {
        "colab": {
          "base_uri": "https://localhost:8080/",
          "height": 390
        },
        "id": "NDA0ylOZEyPJ",
        "outputId": "72e6a8cb-a6b2-452e-eb9a-8e9e4f4f5f02"
      },
      "source": [
        "fig, ax = plt.subplots(figsize=(8,6))\n",
        "data = df[df['Cost']!=0][['Treatment Name','Cost']].groupby(['Treatment Name']).get_group('botox')['Cost']\n",
        "bins = np.linspace(13, 3000, 30)\n",
        "plt.hist(data,bins)\n",
        "plt.title('cost of botox')\n",
        "plt.show()"
      ],
      "execution_count": 47,
      "outputs": [
        {
          "output_type": "display_data",
          "data": {
            "image/png": "[encoded data removed]",
            "text/plain": [
              "<Figure size 576x432 with 1 Axes>"
            ]
          },
          "metadata": {
            "tags": [],
            "needs_background": "light"
          }
        }
      ]
    },
    {
      "cell_type": "code",
      "metadata": {
        "colab": {
          "base_uri": "https://localhost:8080/",
          "height": 480
        },
        "id": "npKOiCPJhVSa",
        "outputId": "d98978e2-aa2a-438d-c772-fd86501ed673"
      },
      "source": [
        "#plt.figure()\n",
        "fig, ax = plt.subplots(1,4, sharey=False,figsize = (15,7))\n",
        "p = df[df['Cost']!=0][['Treatment Name','Cost']].groupby(['Treatment Name']).boxplot(column=['Cost'], by=['Treatment Name'],ax= ax,sharey = False)\n",
        "fig.suptitle('cost range of different treatment')\n",
        "plt.show()\n"
      ],
      "execution_count": 49,
      "outputs": [
        {
          "output_type": "display_data",
          "data": {
            "image/png": "[encoded data removed]",
            "text/plain": [
              "<Figure size 1080x504 with 4 Axes>"
            ]
          },
          "metadata": {
            "tags": [],
            "needs_background": "light"
          }
        }
      ]
    },
    {
      "cell_type": "markdown",
      "metadata": {
        "id": "yWp8Bw1myfFS"
      },
      "source": [
        "**In order to overcome consumers’ hesitation caused by cost, I will show the ratio of consumers fully covered by insurance, besides showing the price range of each treatment. Greed bars stand for a ratio of people paying no extra fee.**\n"
      ]
    },
    {
      "cell_type": "code",
      "metadata": {
        "id": "6LMYlBPUKlZ5"
      },
      "source": [
        "# Add a column to track if consumers pay for the treatment\n",
        "\n",
        "def pay(df):\n",
        "    if df['Cost'] > 0:\n",
        "        return 'pay'\n",
        "    else:\n",
        "        return \"NO cost with insurance\"\n",
        "df.loc[:,\"if_pay\"] = df.apply(pay,axis=1)   "
      ],
      "execution_count": 50,
      "outputs": []
    },
    {
      "cell_type": "code",
      "metadata": {
        "colab": {
          "base_uri": "https://localhost:8080/",
          "height": 296
        },
        "id": "hR9mVgkpUo6P",
        "outputId": "a8de4827-f1e9-412a-9403-dc88cff2dbd2"
      },
      "source": [
        "df.head()"
      ],
      "execution_count": 51,
      "outputs": [
        {
          "output_type": "execute_result",
          "data": {
            "text/html": [
              "<div>\n",
              "<style scoped>\n",
              "    .dataframe tbody tr th:only-of-type {\n",
              "        vertical-align: middle;\n",
              "    }\n",
              "\n",
              "    .dataframe tbody tr th {\n",
              "        vertical-align: top;\n",
              "    }\n",
              "\n",
              "    .dataframe thead th {\n",
              "        text-align: right;\n",
              "    }\n",
              "</style>\n",
              "<table border=\"1\" class=\"dataframe\">\n",
              "  <thead>\n",
              "    <tr style=\"text-align: right;\">\n",
              "      <th></th>\n",
              "      <th>Created Date</th>\n",
              "      <th>Treatment Rating</th>\n",
              "      <th>Number of Photos</th>\n",
              "      <th>Number of Words</th>\n",
              "      <th>Provider Rating</th>\n",
              "      <th>Physician Type</th>\n",
              "      <th>Treatment Name</th>\n",
              "      <th>Title</th>\n",
              "      <th>Cost</th>\n",
              "      <th>if_pay</th>\n",
              "    </tr>\n",
              "  </thead>\n",
              "  <tbody>\n",
              "    <tr>\n",
              "      <th>0</th>\n",
              "      <td>2019-05-31</td>\n",
              "      <td>Worth it</td>\n",
              "      <td>0</td>\n",
              "      <td>109</td>\n",
              "      <td>5.0</td>\n",
              "      <td>Physician</td>\n",
              "      <td>volbella</td>\n",
              "      <td>From Nervous to Loyal Customer in One Visit!</td>\n",
              "      <td>0.0</td>\n",
              "      <td>NO cost with insurance</td>\n",
              "    </tr>\n",
              "    <tr>\n",
              "      <th>1</th>\n",
              "      <td>2019-02-13</td>\n",
              "      <td>Worth it</td>\n",
              "      <td>0</td>\n",
              "      <td>96</td>\n",
              "      <td>5.0</td>\n",
              "      <td>Dermatologic Surgeon</td>\n",
              "      <td>volbella</td>\n",
              "      <td>Dr. Schlessinger did a fantastic job giving me...</td>\n",
              "      <td>0.0</td>\n",
              "      <td>NO cost with insurance</td>\n",
              "    </tr>\n",
              "    <tr>\n",
              "      <th>2</th>\n",
              "      <td>2019-01-13</td>\n",
              "      <td>Worth it</td>\n",
              "      <td>2</td>\n",
              "      <td>93</td>\n",
              "      <td>5.0</td>\n",
              "      <td>Plastic Surgeon</td>\n",
              "      <td>volbella</td>\n",
              "      <td>Amazing Artistry!</td>\n",
              "      <td>0.0</td>\n",
              "      <td>NO cost with insurance</td>\n",
              "    </tr>\n",
              "    <tr>\n",
              "      <th>3</th>\n",
              "      <td>2019-06-30</td>\n",
              "      <td>Worth it</td>\n",
              "      <td>0</td>\n",
              "      <td>80</td>\n",
              "      <td>5.0</td>\n",
              "      <td>Family Physician</td>\n",
              "      <td>volbella</td>\n",
              "      <td>Expert Injector!</td>\n",
              "      <td>0.0</td>\n",
              "      <td>NO cost with insurance</td>\n",
              "    </tr>\n",
              "    <tr>\n",
              "      <th>4</th>\n",
              "      <td>2019-03-21</td>\n",
              "      <td>Not worth it</td>\n",
              "      <td>3</td>\n",
              "      <td>172</td>\n",
              "      <td>NaN</td>\n",
              "      <td>NaN</td>\n",
              "      <td>volbella</td>\n",
              "      <td>Late Reaction to Volbella</td>\n",
              "      <td>750.0</td>\n",
              "      <td>pay</td>\n",
              "    </tr>\n",
              "  </tbody>\n",
              "</table>\n",
              "</div>"
            ],
            "text/plain": [
              "  Created Date Treatment Rating  ...   Cost                  if_pay\n",
              "0   2019-05-31         Worth it  ...    0.0  NO cost with insurance\n",
              "1   2019-02-13         Worth it  ...    0.0  NO cost with insurance\n",
              "2   2019-01-13         Worth it  ...    0.0  NO cost with insurance\n",
              "3   2019-06-30         Worth it  ...    0.0  NO cost with insurance\n",
              "4   2019-03-21     Not worth it  ...  750.0                     pay\n",
              "\n",
              "[5 rows x 10 columns]"
            ]
          },
          "metadata": {
            "tags": []
          },
          "execution_count": 51
        }
      ]
    },
    {
      "cell_type": "code",
      "metadata": {
        "colab": {
          "base_uri": "https://localhost:8080/",
          "height": 195
        },
        "id": "typLQgutH3of",
        "outputId": "d63b897f-05e6-40cc-c080-bb706475acfc"
      },
      "source": [
        "temp = df.groupby(['Treatment Name','if_pay']).size().unstack() \n",
        "temp['% pay'] = temp['pay']/(temp['NO cost with insurance']+temp['pay'])\n",
        "temp['% No cost with insurance'] = temp['NO cost with insurance']/(temp['NO cost with insurance']+temp['pay'])\n",
        "temp = temp.drop(['NO cost with insurance','pay'],axis= 1)\n",
        "temp"
      ],
      "execution_count": 52,
      "outputs": [
        {
          "output_type": "execute_result",
          "data": {
            "text/html": [
              "<div>\n",
              "<style scoped>\n",
              "    .dataframe tbody tr th:only-of-type {\n",
              "        vertical-align: middle;\n",
              "    }\n",
              "\n",
              "    .dataframe tbody tr th {\n",
              "        vertical-align: top;\n",
              "    }\n",
              "\n",
              "    .dataframe thead th {\n",
              "        text-align: right;\n",
              "    }\n",
              "</style>\n",
              "<table border=\"1\" class=\"dataframe\">\n",
              "  <thead>\n",
              "    <tr style=\"text-align: right;\">\n",
              "      <th>if_pay</th>\n",
              "      <th>% pay</th>\n",
              "      <th>% No cost with insurance</th>\n",
              "    </tr>\n",
              "    <tr>\n",
              "      <th>Treatment Name</th>\n",
              "      <th></th>\n",
              "      <th></th>\n",
              "    </tr>\n",
              "  </thead>\n",
              "  <tbody>\n",
              "    <tr>\n",
              "      <th>botox</th>\n",
              "      <td>0.403361</td>\n",
              "      <td>0.596639</td>\n",
              "    </tr>\n",
              "    <tr>\n",
              "      <th>chemical peel</th>\n",
              "      <td>0.357143</td>\n",
              "      <td>0.642857</td>\n",
              "    </tr>\n",
              "    <tr>\n",
              "      <th>coolmini</th>\n",
              "      <td>0.500000</td>\n",
              "      <td>0.500000</td>\n",
              "    </tr>\n",
              "    <tr>\n",
              "      <th>volbella</th>\n",
              "      <td>0.434783</td>\n",
              "      <td>0.565217</td>\n",
              "    </tr>\n",
              "  </tbody>\n",
              "</table>\n",
              "</div>"
            ],
            "text/plain": [
              "if_pay             % pay  % No cost with insurance\n",
              "Treatment Name                                    \n",
              "botox           0.403361                  0.596639\n",
              "chemical peel   0.357143                  0.642857\n",
              "coolmini        0.500000                  0.500000\n",
              "volbella        0.434783                  0.565217"
            ]
          },
          "metadata": {
            "tags": []
          },
          "execution_count": 52
        }
      ]
    },
    {
      "cell_type": "code",
      "metadata": {
        "colab": {
          "base_uri": "https://localhost:8080/",
          "height": 502
        },
        "id": "l4gbePrXKQ31",
        "outputId": "d150f8ad-ed99-417d-a58c-39a3e63d96db"
      },
      "source": [
        "c = ['indianred', 'limegreen']\n",
        "temp.plot(kind='bar',stacked=True,color=c,figsize=(10,7));"
      ],
      "execution_count": 53,
      "outputs": [
        {
          "output_type": "display_data",
          "data": {
            "image/png": "[encoded data removed]",
            "text/plain": [
              "<Figure size 720x504 with 1 Axes>"
            ]
          },
          "metadata": {
            "tags": [],
            "needs_background": "light"
          }
        }
      ]
    },
    {
      "cell_type": "code",
      "metadata": {
        "id": "7stqpKfgMW7r"
      },
      "source": [
        "## Categorize the numerical variable, Cost. \n",
        "## The range is determined in order to allocating at least 5 samples in each cell in rc contingency table.\n",
        "def cost_level(dataframe):\n",
        "  if dataframe['Cost'] == 0:\n",
        "    return 'no payment'\n",
        "  elif dataframe['Cost'] <= 400:\n",
        "    return 'a fair price'\n",
        "  elif dataframe['Cost'] <= 900:\n",
        "    return 'acceptable'\n",
        "  else:\n",
        "    return 'expensive'\n",
        "df.loc[:,'cost_level'] = df.apply(cost_level,axis = 1)"
      ],
      "execution_count": 54,
      "outputs": []
    },
    {
      "cell_type": "code",
      "metadata": {
        "id": "OwdFyW07KWV7",
        "colab": {
          "base_uri": "https://localhost:8080/",
          "height": 427
        },
        "outputId": "a1ee1421-c94d-4d4e-ee57-76ef110356e7"
      },
      "source": [
        "# Another plot showing to consumers\n",
        "l = ['<=400','<=800','>800','NO cost with insurance']\n",
        "c = ['royalblue','skyblue','powderblue','navy']\n",
        "df.groupby(['cost_level'])['Cost'].count().plot(kind = 'pie',figsize = (7,7),labels = l, colors = c)\n",
        "plt.title('Cost')\n",
        "plt.show()"
      ],
      "execution_count": 56,
      "outputs": [
        {
          "output_type": "display_data",
          "data": {
            "image/png": "[encoded data removed]",
            "text/plain": [
              "<Figure size 504x504 with 1 Axes>"
            ]
          },
          "metadata": {
            "tags": []
          }
        }
      ]
    },
    {
      "cell_type": "markdown",
      "metadata": {
        "id": "cFalp2nzeeEy"
      },
      "source": [
        "## Which treatment is rated the highest by users?"
      ]
    },
    {
      "cell_type": "markdown",
      "metadata": {
        "id": "xEReeCC7oBG6"
      },
      "source": [
        "The simplest way to ranking the treatments is based on the treatment rating."
      ]
    },
    {
      "cell_type": "code",
      "metadata": {
        "colab": {
          "base_uri": "https://localhost:8080/",
          "height": 195
        },
        "id": "gLhSQq7J6SkY",
        "outputId": "2375bde2-cdfc-4e63-8803-87e75837ae57"
      },
      "source": [
        "group = df.groupby([\"Treatment Name\",\"Treatment Rating\"])\n",
        "rate_table = group.size().unstack()\n",
        "rate_table"
      ],
      "execution_count": 57,
      "outputs": [
        {
          "output_type": "execute_result",
          "data": {
            "text/html": [
              "<div>\n",
              "<style scoped>\n",
              "    .dataframe tbody tr th:only-of-type {\n",
              "        vertical-align: middle;\n",
              "    }\n",
              "\n",
              "    .dataframe tbody tr th {\n",
              "        vertical-align: top;\n",
              "    }\n",
              "\n",
              "    .dataframe thead th {\n",
              "        text-align: right;\n",
              "    }\n",
              "</style>\n",
              "<table border=\"1\" class=\"dataframe\">\n",
              "  <thead>\n",
              "    <tr style=\"text-align: right;\">\n",
              "      <th>Treatment Rating</th>\n",
              "      <th>Not worth it</th>\n",
              "      <th>Worth it</th>\n",
              "    </tr>\n",
              "    <tr>\n",
              "      <th>Treatment Name</th>\n",
              "      <th></th>\n",
              "      <th></th>\n",
              "    </tr>\n",
              "  </thead>\n",
              "  <tbody>\n",
              "    <tr>\n",
              "      <th>botox</th>\n",
              "      <td>23</td>\n",
              "      <td>572</td>\n",
              "    </tr>\n",
              "    <tr>\n",
              "      <th>chemical peel</th>\n",
              "      <td>3</td>\n",
              "      <td>25</td>\n",
              "    </tr>\n",
              "    <tr>\n",
              "      <th>coolmini</th>\n",
              "      <td>2</td>\n",
              "      <td>14</td>\n",
              "    </tr>\n",
              "    <tr>\n",
              "      <th>volbella</th>\n",
              "      <td>3</td>\n",
              "      <td>20</td>\n",
              "    </tr>\n",
              "  </tbody>\n",
              "</table>\n",
              "</div>"
            ],
            "text/plain": [
              "Treatment Rating  Not worth it  Worth it\n",
              "Treatment Name                          \n",
              "botox                       23       572\n",
              "chemical peel                3        25\n",
              "coolmini                     2        14\n",
              "volbella                     3        20"
            ]
          },
          "metadata": {
            "tags": []
          },
          "execution_count": 57
        }
      ]
    },
    {
      "cell_type": "code",
      "metadata": {
        "colab": {
          "base_uri": "https://localhost:8080/"
        },
        "id": "wOjqimikDZ0E",
        "outputId": "87aec0be-9503-4b22-e29e-ec532ac30c61"
      },
      "source": [
        "for i in rate_table.index:\n",
        "    rate = rate_table.loc[i].values[1]/(rate_table.loc[i].values[1]+rate_table.loc[i].values[0])\n",
        "    print ('Satisfaction rate of %s is %s' %(i,'{:.2f}%'.format(rate*100)))"
      ],
      "execution_count": null,
      "outputs": [
        {
          "output_type": "stream",
          "text": [
            "Satisfaction rate of botox is 96.13%\n",
            "Satisfaction rate of chemical peel is 89.29%\n",
            "Satisfaction rate of coolmini is 87.50%\n",
            "Satisfaction rate of volbella is 86.96%\n"
          ],
          "name": "stdout"
        }
      ]
    },
    {
      "cell_type": "markdown",
      "metadata": {
        "id": "-3Q5NtJ0ejCv"
      },
      "source": [
        "## How to rank the treatments based on other data?"
      ]
    },
    {
      "cell_type": "markdown",
      "metadata": {
        "id": "DZis-YutJwFI"
      },
      "source": [
        "Since there're only 2 categories in Treatment Rating and most of people rated \"worth it\", which is not enough to measure consumers' satisfaction. So I'll combine several metrics, including Treatment Rating, Number of photos, Number of words and Provider Rating, to obtain an overall score of satisfaction (out of 10) for each consumer."
      ]
    },
    {
      "cell_type": "markdown",
      "metadata": {
        "id": "ZJArw5VXT5r9"
      },
      "source": [
        "#### Treartment Rating"
      ]
    },
    {
      "cell_type": "code",
      "metadata": {
        "id": "r6a2okudJus0"
      },
      "source": [
        "# Based on Treatment Rating, I'll create a column to display cunsumers' sentiment. 1 for positive and -1 for negative.\n",
        "df.loc[:,\"sign\"] = df.apply(lambda x: 1 if x['Treatment Rating']==\"Worth it\" else -1, axis=1)"
      ],
      "execution_count": 58,
      "outputs": []
    },
    {
      "cell_type": "code",
      "metadata": {
        "id": "K2L4Yb8iJuwD"
      },
      "source": [
        "# Set 5 as basement score, plus 2 for 'Worth it' and 0 for 'Not worth it'.\n",
        "df.loc[:,\"score_tr\"] = df.apply(lambda x: 7 if x['sign']== 1 else 5, axis=1)"
      ],
      "execution_count": 59,
      "outputs": []
    },
    {
      "cell_type": "markdown",
      "metadata": {
        "id": "uJf_xcg5T_Ld"
      },
      "source": [
        "#### Number of photos"
      ]
    },
    {
      "cell_type": "code",
      "metadata": {
        "colab": {
          "base_uri": "https://localhost:8080/"
        },
        "id": "OvywiPSg8psH",
        "outputId": "1dc67ec9-b639-4ee5-d896-436ecc669bae"
      },
      "source": [
        "# Only 54 out of 662 consumers post photo in review, so this is not a powerful metric. Most of these consumers post 1-4 photos.\n",
        "df[df['Number of Photos'] > 0]['Number of Photos'].describe()"
      ],
      "execution_count": null,
      "outputs": [
        {
          "output_type": "execute_result",
          "data": {
            "text/plain": [
              "count    54.000000\n",
              "mean      3.277778\n",
              "std       3.258757\n",
              "min       1.000000\n",
              "25%       1.000000\n",
              "50%       2.000000\n",
              "75%       4.000000\n",
              "max      18.000000\n",
              "Name: Number of Photos, dtype: float64"
            ]
          },
          "metadata": {
            "tags": []
          },
          "execution_count": 18
        }
      ]
    },
    {
      "cell_type": "code",
      "metadata": {
        "colab": {
          "base_uri": "https://localhost:8080/"
        },
        "id": "fd0Kt9ylfxvs",
        "outputId": "92d7d2d0-ed78-4201-bea9-532e2e7f11a1"
      },
      "source": [
        "# about 80% consumers who post photo are satisfied with the treatment. And most of these consumers post 1-4 photos as well\n",
        "df[(df['Number of Photos'] > 0)&(df['Treatment Rating'] == 'Worth it')]['Number of Photos'].describe()"
      ],
      "execution_count": null,
      "outputs": [
        {
          "output_type": "execute_result",
          "data": {
            "text/plain": [
              "count    41.000000\n",
              "mean      3.292683\n",
              "std       3.607242\n",
              "min       1.000000\n",
              "25%       1.000000\n",
              "50%       2.000000\n",
              "75%       4.000000\n",
              "max      18.000000\n",
              "Name: Number of Photos, dtype: float64"
            ]
          },
          "metadata": {
            "tags": []
          },
          "execution_count": 19
        }
      ]
    },
    {
      "cell_type": "code",
      "metadata": {
        "colab": {
          "base_uri": "https://localhost:8080/"
        },
        "id": "XvJzCdl-6aFV",
        "outputId": "d3521e96-c179-410e-ade2-d9c9ee2b1a3d"
      },
      "source": [
        "df[(df['Number of Photos'] > 0)&(df['Treatment Rating'] == 'Not worth it')]['Number of Photos'].describe()"
      ],
      "execution_count": null,
      "outputs": [
        {
          "output_type": "execute_result",
          "data": {
            "text/plain": [
              "count    13.000000\n",
              "mean      3.230769\n",
              "std       1.877669\n",
              "min       1.000000\n",
              "25%       2.000000\n",
              "50%       3.000000\n",
              "75%       4.000000\n",
              "max       8.000000\n",
              "Name: Number of Photos, dtype: float64"
            ]
          },
          "metadata": {
            "tags": []
          },
          "execution_count": 20
        }
      ]
    },
    {
      "cell_type": "code",
      "metadata": {
        "id": "a_3R1j47-qnG"
      },
      "source": [
        "def score_ph(dataframe):\n",
        "  if dataframe['Number of Photos'] == 0:\n",
        "    return 0            # Add 0 point to consumers didn't post photo.\n",
        "  elif dataframe['Number of Photos'] <=4:\n",
        "    return 0.2          # Add 0.2 point to consumers posted 1-4 photos\n",
        "  elif dataframe['Number of Photos'] <= 10:\n",
        "    return 0.4          # Add 0.4 point to consumers posted 5-10 photos\n",
        "  else:                 \n",
        "    return 0.5          # Add 0.5 point to consumers posted 10+ photos.\n",
        "                        # The points will multiply sign value at last step, so it may decrease the overall score if consumer rated 'Not worth it'.\n",
        "df.loc[:,'score_ph'] = df.apply(score_ph,axis = 1)  "
      ],
      "execution_count": null,
      "outputs": []
    },
    {
      "cell_type": "markdown",
      "metadata": {
        "id": "oLTIdEKpTYAt"
      },
      "source": [
        "#### Number of words"
      ]
    },
    {
      "cell_type": "code",
      "metadata": {
        "colab": {
          "base_uri": "https://localhost:8080/"
        },
        "id": "V3SwXW5Y6aIN",
        "outputId": "3422108f-f189-4997-9101-d2e1c57bd630"
      },
      "source": [
        "df['Number of Words'].describe() "
      ],
      "execution_count": null,
      "outputs": [
        {
          "output_type": "execute_result",
          "data": {
            "text/plain": [
              "count    662.000000\n",
              "mean      87.483384\n",
              "std       75.813763\n",
              "min       28.000000\n",
              "25%       45.000000\n",
              "50%       61.000000\n",
              "75%      101.750000\n",
              "max      704.000000\n",
              "Name: Number of Words, dtype: float64"
            ]
          },
          "metadata": {
            "tags": []
          },
          "execution_count": 22
        }
      ]
    },
    {
      "cell_type": "code",
      "metadata": {
        "colab": {
          "base_uri": "https://localhost:8080/",
          "height": 321
        },
        "id": "b39_QES06aLt",
        "outputId": "ebd05933-706e-4742-90e6-9d41d1ce668b"
      },
      "source": [
        "df['Number of Words'].hist(bins = 70,figsize =(15,5));"
      ],
      "execution_count": null,
      "outputs": [
        {
          "output_type": "display_data",
          "data": {
            "image/png": "[encoded data removed]",
            "text/plain": [
              "<Figure size 1080x360 with 1 Axes>"
            ]
          },
          "metadata": {
            "tags": [],
            "needs_background": "light"
          }
        }
      ]
    },
    {
      "cell_type": "code",
      "metadata": {
        "colab": {
          "base_uri": "https://localhost:8080/"
        },
        "id": "MnkdZHFCTU5M",
        "outputId": "7216a230-0fd1-4b71-99ad-fcf9033ca5b2"
      },
      "source": [
        "df[df['Treatment Rating'] == 'Worth it']['Number of Words'].describe()"
      ],
      "execution_count": null,
      "outputs": [
        {
          "output_type": "execute_result",
          "data": {
            "text/plain": [
              "count    631.000000\n",
              "mean      80.158479\n",
              "std       56.631672\n",
              "min       28.000000\n",
              "25%       44.000000\n",
              "50%       60.000000\n",
              "75%       95.500000\n",
              "max      622.000000\n",
              "Name: Number of Words, dtype: float64"
            ]
          },
          "metadata": {
            "tags": []
          },
          "execution_count": 26
        }
      ]
    },
    {
      "cell_type": "code",
      "metadata": {
        "colab": {
          "base_uri": "https://localhost:8080/",
          "height": 320
        },
        "id": "pvNljSGrVUQp",
        "outputId": "d5ddea58-d19d-48fd-92a9-2a2ffb0b1971"
      },
      "source": [
        "df[df['Treatment Rating'] == 'Not worth it']['Number of Words'].hist(bins = 70,figsize =(15,5));"
      ],
      "execution_count": null,
      "outputs": [
        {
          "output_type": "display_data",
          "data": {
            "image/png": "[encoded data removed]",
            "text/plain": [
              "<Figure size 1080x360 with 1 Axes>"
            ]
          },
          "metadata": {
            "tags": [],
            "needs_background": "light"
          }
        }
      ]
    },
    {
      "cell_type": "code",
      "metadata": {
        "colab": {
          "base_uri": "https://localhost:8080/"
        },
        "id": "1zZTM8AaTU72",
        "outputId": "692ec93f-32d3-4eb7-a87e-a44844c5c23e"
      },
      "source": [
        "df[df['Treatment Rating'] == 'Not worth it']['Number of Words'].describe()"
      ],
      "execution_count": null,
      "outputs": [
        {
          "output_type": "execute_result",
          "data": {
            "text/plain": [
              "count     31.000000\n",
              "mean     236.580645\n",
              "std      187.595269\n",
              "min       40.000000\n",
              "25%       86.000000\n",
              "50%      187.000000\n",
              "75%      278.500000\n",
              "max      704.000000\n",
              "Name: Number of Words, dtype: float64"
            ]
          },
          "metadata": {
            "tags": []
          },
          "execution_count": 28
        }
      ]
    },
    {
      "cell_type": "code",
      "metadata": {
        "id": "IiJgThkNTU_D"
      },
      "source": [
        "def score_w(dataframe):\n",
        "  if dataframe['Number of Words'] <= 25:\n",
        "    return 0.25\n",
        "  elif dataframe['Number of Words'] <= 50:\n",
        "    return 0.5\n",
        "  elif dataframe['Number of Words'] <= 75:\n",
        "    return 0.75\n",
        "  elif dataframe['Number of Words'] <= 100:\n",
        "    return 1\n",
        "  elif dataframe['Number of Words'] <= 200:\n",
        "    return 1.25\n",
        "  elif dataframe['Number of Words'] <= 300:\n",
        "    return 1.5\n",
        "  elif dataframe['Number of Words'] <= 400:\n",
        "    return 1.75\n",
        "  elif dataframe['Number of Words'] <= 500:\n",
        "    return 2\n",
        "  else:\n",
        "    return 2.25\n",
        "\n",
        "df.loc[:,'score_w'] = df.apply(score_w,axis = 1)"
      ],
      "execution_count": null,
      "outputs": []
    },
    {
      "cell_type": "code",
      "metadata": {
        "colab": {
          "base_uri": "https://localhost:8080/",
          "height": 484
        },
        "id": "VwQYuXy9Xh0N",
        "outputId": "3390cceb-0353-4f8c-db73-15f794652eaf"
      },
      "source": [
        "df.head()"
      ],
      "execution_count": null,
      "outputs": [
        {
          "output_type": "execute_result",
          "data": {
            "text/html": [
              "<div>\n",
              "<style scoped>\n",
              "    .dataframe tbody tr th:only-of-type {\n",
              "        vertical-align: middle;\n",
              "    }\n",
              "\n",
              "    .dataframe tbody tr th {\n",
              "        vertical-align: top;\n",
              "    }\n",
              "\n",
              "    .dataframe thead th {\n",
              "        text-align: right;\n",
              "    }\n",
              "</style>\n",
              "<table border=\"1\" class=\"dataframe\">\n",
              "  <thead>\n",
              "    <tr style=\"text-align: right;\">\n",
              "      <th></th>\n",
              "      <th>Created Date</th>\n",
              "      <th>Treatment Rating</th>\n",
              "      <th>Number of Photos</th>\n",
              "      <th>Number of Words</th>\n",
              "      <th>Provider Rating</th>\n",
              "      <th>Physician Type</th>\n",
              "      <th>Treatment Name</th>\n",
              "      <th>Title</th>\n",
              "      <th>Cost</th>\n",
              "      <th>if_pay</th>\n",
              "      <th>cost_level</th>\n",
              "      <th>sign</th>\n",
              "      <th>score_tr</th>\n",
              "      <th>score_ph</th>\n",
              "      <th>score_w</th>\n",
              "    </tr>\n",
              "  </thead>\n",
              "  <tbody>\n",
              "    <tr>\n",
              "      <th>0</th>\n",
              "      <td>2019-05-31</td>\n",
              "      <td>Worth it</td>\n",
              "      <td>0</td>\n",
              "      <td>109</td>\n",
              "      <td>5.0</td>\n",
              "      <td>Physician</td>\n",
              "      <td>volbella</td>\n",
              "      <td>From Nervous to Loyal Customer in One Visit!</td>\n",
              "      <td>0.0</td>\n",
              "      <td>NO cost with insurance</td>\n",
              "      <td>no payment</td>\n",
              "      <td>1</td>\n",
              "      <td>7</td>\n",
              "      <td>0.0</td>\n",
              "      <td>1.25</td>\n",
              "    </tr>\n",
              "    <tr>\n",
              "      <th>1</th>\n",
              "      <td>2019-02-13</td>\n",
              "      <td>Worth it</td>\n",
              "      <td>0</td>\n",
              "      <td>96</td>\n",
              "      <td>5.0</td>\n",
              "      <td>Dermatologic Surgeon</td>\n",
              "      <td>volbella</td>\n",
              "      <td>Dr. Schlessinger did a fantastic job giving me...</td>\n",
              "      <td>0.0</td>\n",
              "      <td>NO cost with insurance</td>\n",
              "      <td>no payment</td>\n",
              "      <td>1</td>\n",
              "      <td>7</td>\n",
              "      <td>0.0</td>\n",
              "      <td>1.00</td>\n",
              "    </tr>\n",
              "    <tr>\n",
              "      <th>2</th>\n",
              "      <td>2019-01-13</td>\n",
              "      <td>Worth it</td>\n",
              "      <td>2</td>\n",
              "      <td>93</td>\n",
              "      <td>5.0</td>\n",
              "      <td>Plastic Surgeon</td>\n",
              "      <td>volbella</td>\n",
              "      <td>Amazing Artistry!</td>\n",
              "      <td>0.0</td>\n",
              "      <td>NO cost with insurance</td>\n",
              "      <td>no payment</td>\n",
              "      <td>1</td>\n",
              "      <td>7</td>\n",
              "      <td>0.2</td>\n",
              "      <td>1.00</td>\n",
              "    </tr>\n",
              "    <tr>\n",
              "      <th>3</th>\n",
              "      <td>2019-06-30</td>\n",
              "      <td>Worth it</td>\n",
              "      <td>0</td>\n",
              "      <td>80</td>\n",
              "      <td>5.0</td>\n",
              "      <td>Family Physician</td>\n",
              "      <td>volbella</td>\n",
              "      <td>Expert Injector!</td>\n",
              "      <td>0.0</td>\n",
              "      <td>NO cost with insurance</td>\n",
              "      <td>no payment</td>\n",
              "      <td>1</td>\n",
              "      <td>7</td>\n",
              "      <td>0.0</td>\n",
              "      <td>1.00</td>\n",
              "    </tr>\n",
              "    <tr>\n",
              "      <th>4</th>\n",
              "      <td>2019-03-21</td>\n",
              "      <td>Not worth it</td>\n",
              "      <td>3</td>\n",
              "      <td>172</td>\n",
              "      <td>NaN</td>\n",
              "      <td>NaN</td>\n",
              "      <td>volbella</td>\n",
              "      <td>Late Reaction to Volbella</td>\n",
              "      <td>750.0</td>\n",
              "      <td>pay</td>\n",
              "      <td>acceptable</td>\n",
              "      <td>-1</td>\n",
              "      <td>5</td>\n",
              "      <td>0.2</td>\n",
              "      <td>1.25</td>\n",
              "    </tr>\n",
              "  </tbody>\n",
              "</table>\n",
              "</div>"
            ],
            "text/plain": [
              "  Created Date Treatment Rating  Number of Photos  ...  score_tr  score_ph score_w\n",
              "0   2019-05-31         Worth it                 0  ...         7       0.0    1.25\n",
              "1   2019-02-13         Worth it                 0  ...         7       0.0    1.00\n",
              "2   2019-01-13         Worth it                 2  ...         7       0.2    1.00\n",
              "3   2019-06-30         Worth it                 0  ...         7       0.0    1.00\n",
              "4   2019-03-21     Not worth it                 3  ...         5       0.2    1.25\n",
              "\n",
              "[5 rows x 15 columns]"
            ]
          },
          "metadata": {
            "tags": []
          },
          "execution_count": 30
        }
      ]
    },
    {
      "cell_type": "code",
      "metadata": {
        "id": "PVIILijxXmxz"
      },
      "source": [
        ""
      ],
      "execution_count": null,
      "outputs": []
    },
    {
      "cell_type": "markdown",
      "metadata": {
        "id": "rJQxV1uAXnL6"
      },
      "source": [
        "#### Provider Rating\n",
        "\n",
        "Although it's rating for provider not treatment, consumers' rating for treatment is usually based on overall experience, so this feature is supposed to be considered"
      ]
    },
    {
      "cell_type": "code",
      "metadata": {
        "colab": {
          "base_uri": "https://localhost:8080/",
          "height": 106
        },
        "id": "aOd5RHJkZdl7",
        "outputId": "426ae71f-b30f-45a9-ad96-c559850baa33"
      },
      "source": [
        "# 18 consumers didn't rate the treatment provider. Satisfication based on Treatment Rating is half and half. \n",
        "df[df['Provider Rating'].notna() ==  False].groupby(['Treatment Rating']).size().reset_index(name ='counts')"
      ],
      "execution_count": null,
      "outputs": [
        {
          "output_type": "execute_result",
          "data": {
            "text/html": [
              "<div>\n",
              "<style scoped>\n",
              "    .dataframe tbody tr th:only-of-type {\n",
              "        vertical-align: middle;\n",
              "    }\n",
              "\n",
              "    .dataframe tbody tr th {\n",
              "        vertical-align: top;\n",
              "    }\n",
              "\n",
              "    .dataframe thead th {\n",
              "        text-align: right;\n",
              "    }\n",
              "</style>\n",
              "<table border=\"1\" class=\"dataframe\">\n",
              "  <thead>\n",
              "    <tr style=\"text-align: right;\">\n",
              "      <th></th>\n",
              "      <th>Treatment Rating</th>\n",
              "      <th>counts</th>\n",
              "    </tr>\n",
              "  </thead>\n",
              "  <tbody>\n",
              "    <tr>\n",
              "      <th>0</th>\n",
              "      <td>Not worth it</td>\n",
              "      <td>8</td>\n",
              "    </tr>\n",
              "    <tr>\n",
              "      <th>1</th>\n",
              "      <td>Worth it</td>\n",
              "      <td>10</td>\n",
              "    </tr>\n",
              "  </tbody>\n",
              "</table>\n",
              "</div>"
            ],
            "text/plain": [
              "  Treatment Rating  counts\n",
              "0     Not worth it       8\n",
              "1         Worth it      10"
            ]
          },
          "metadata": {
            "tags": []
          },
          "execution_count": 31
        }
      ]
    },
    {
      "cell_type": "code",
      "metadata": {
        "colab": {
          "base_uri": "https://localhost:8080/",
          "height": 136
        },
        "id": "ZBE2p1gmFZ1h",
        "outputId": "5d4067de-69ae-4dec-8f79-27f781797960"
      },
      "source": [
        "# Most consumers give a high rate(>=4) to the provider.\n",
        "df[df['Treatment Rating']==\"Worth it\"].groupby(['Provider Rating']).size().reset_index(name ='counts')"
      ],
      "execution_count": null,
      "outputs": [
        {
          "output_type": "execute_result",
          "data": {
            "text/html": [
              "<div>\n",
              "<style scoped>\n",
              "    .dataframe tbody tr th:only-of-type {\n",
              "        vertical-align: middle;\n",
              "    }\n",
              "\n",
              "    .dataframe tbody tr th {\n",
              "        vertical-align: top;\n",
              "    }\n",
              "\n",
              "    .dataframe thead th {\n",
              "        text-align: right;\n",
              "    }\n",
              "</style>\n",
              "<table border=\"1\" class=\"dataframe\">\n",
              "  <thead>\n",
              "    <tr style=\"text-align: right;\">\n",
              "      <th></th>\n",
              "      <th>Provider Rating</th>\n",
              "      <th>counts</th>\n",
              "    </tr>\n",
              "  </thead>\n",
              "  <tbody>\n",
              "    <tr>\n",
              "      <th>0</th>\n",
              "      <td>1.0</td>\n",
              "      <td>1</td>\n",
              "    </tr>\n",
              "    <tr>\n",
              "      <th>1</th>\n",
              "      <td>4.0</td>\n",
              "      <td>8</td>\n",
              "    </tr>\n",
              "    <tr>\n",
              "      <th>2</th>\n",
              "      <td>5.0</td>\n",
              "      <td>612</td>\n",
              "    </tr>\n",
              "  </tbody>\n",
              "</table>\n",
              "</div>"
            ],
            "text/plain": [
              "   Provider Rating  counts\n",
              "0              1.0       1\n",
              "1              4.0       8\n",
              "2              5.0     612"
            ]
          },
          "metadata": {
            "tags": []
          },
          "execution_count": 32
        }
      ]
    },
    {
      "cell_type": "code",
      "metadata": {
        "colab": {
          "base_uri": "https://localhost:8080/",
          "height": 166
        },
        "id": "-uvG-rxweGl0",
        "outputId": "ba8c2b8e-0af8-4ea4-8c4f-628689f87cc3"
      },
      "source": [
        "df[df['Treatment Rating']==\"Not worth it\"].groupby(['Provider Rating']).size().reset_index(name ='counts')"
      ],
      "execution_count": null,
      "outputs": [
        {
          "output_type": "execute_result",
          "data": {
            "text/html": [
              "<div>\n",
              "<style scoped>\n",
              "    .dataframe tbody tr th:only-of-type {\n",
              "        vertical-align: middle;\n",
              "    }\n",
              "\n",
              "    .dataframe tbody tr th {\n",
              "        vertical-align: top;\n",
              "    }\n",
              "\n",
              "    .dataframe thead th {\n",
              "        text-align: right;\n",
              "    }\n",
              "</style>\n",
              "<table border=\"1\" class=\"dataframe\">\n",
              "  <thead>\n",
              "    <tr style=\"text-align: right;\">\n",
              "      <th></th>\n",
              "      <th>Provider Rating</th>\n",
              "      <th>counts</th>\n",
              "    </tr>\n",
              "  </thead>\n",
              "  <tbody>\n",
              "    <tr>\n",
              "      <th>0</th>\n",
              "      <td>1.0</td>\n",
              "      <td>18</td>\n",
              "    </tr>\n",
              "    <tr>\n",
              "      <th>1</th>\n",
              "      <td>2.0</td>\n",
              "      <td>2</td>\n",
              "    </tr>\n",
              "    <tr>\n",
              "      <th>2</th>\n",
              "      <td>3.0</td>\n",
              "      <td>2</td>\n",
              "    </tr>\n",
              "    <tr>\n",
              "      <th>3</th>\n",
              "      <td>5.0</td>\n",
              "      <td>1</td>\n",
              "    </tr>\n",
              "  </tbody>\n",
              "</table>\n",
              "</div>"
            ],
            "text/plain": [
              "   Provider Rating  counts\n",
              "0              1.0      18\n",
              "1              2.0       2\n",
              "2              3.0       2\n",
              "3              5.0       1"
            ]
          },
          "metadata": {
            "tags": []
          },
          "execution_count": 33
        }
      ]
    },
    {
      "cell_type": "code",
      "metadata": {
        "id": "JEd2twKmXmJz"
      },
      "source": [
        "def score_pr(dataframe):\n",
        "  if dataframe['Provider Rating'] == 5:\n",
        "    return 0.25\n",
        "  elif dataframe['Provider Rating'] == 4:\n",
        "    return 0.1\n",
        "  elif dataframe['Provider Rating'] == 2:\n",
        "    return -0.3\n",
        "  elif dataframe['Provider Rating'] == 1:\n",
        "    return -0.5\n",
        "  else:\n",
        "    return 0\n",
        "df.loc[:,'score_pr'] = df.apply(score_pr,axis = 1)"
      ],
      "execution_count": null,
      "outputs": []
    },
    {
      "cell_type": "code",
      "metadata": {
        "colab": {
          "base_uri": "https://localhost:8080/",
          "height": 484
        },
        "id": "QBkZQhJCf5L5",
        "outputId": "67aeb004-6a34-41a1-b5dc-4fd0e51a3754"
      },
      "source": [
        "df.head(5)"
      ],
      "execution_count": null,
      "outputs": [
        {
          "output_type": "execute_result",
          "data": {
            "text/html": [
              "<div>\n",
              "<style scoped>\n",
              "    .dataframe tbody tr th:only-of-type {\n",
              "        vertical-align: middle;\n",
              "    }\n",
              "\n",
              "    .dataframe tbody tr th {\n",
              "        vertical-align: top;\n",
              "    }\n",
              "\n",
              "    .dataframe thead th {\n",
              "        text-align: right;\n",
              "    }\n",
              "</style>\n",
              "<table border=\"1\" class=\"dataframe\">\n",
              "  <thead>\n",
              "    <tr style=\"text-align: right;\">\n",
              "      <th></th>\n",
              "      <th>Created Date</th>\n",
              "      <th>Treatment Rating</th>\n",
              "      <th>Number of Photos</th>\n",
              "      <th>Number of Words</th>\n",
              "      <th>Provider Rating</th>\n",
              "      <th>Physician Type</th>\n",
              "      <th>Treatment Name</th>\n",
              "      <th>Title</th>\n",
              "      <th>Cost</th>\n",
              "      <th>if_pay</th>\n",
              "      <th>cost_level</th>\n",
              "      <th>sign</th>\n",
              "      <th>score_tr</th>\n",
              "      <th>score_ph</th>\n",
              "      <th>score_w</th>\n",
              "      <th>score_pr</th>\n",
              "    </tr>\n",
              "  </thead>\n",
              "  <tbody>\n",
              "    <tr>\n",
              "      <th>0</th>\n",
              "      <td>2019-05-31</td>\n",
              "      <td>Worth it</td>\n",
              "      <td>0</td>\n",
              "      <td>109</td>\n",
              "      <td>5.0</td>\n",
              "      <td>Physician</td>\n",
              "      <td>volbella</td>\n",
              "      <td>From Nervous to Loyal Customer in One Visit!</td>\n",
              "      <td>0.0</td>\n",
              "      <td>NO cost with insurance</td>\n",
              "      <td>no payment</td>\n",
              "      <td>1</td>\n",
              "      <td>7</td>\n",
              "      <td>0.0</td>\n",
              "      <td>1.25</td>\n",
              "      <td>0.25</td>\n",
              "    </tr>\n",
              "    <tr>\n",
              "      <th>1</th>\n",
              "      <td>2019-02-13</td>\n",
              "      <td>Worth it</td>\n",
              "      <td>0</td>\n",
              "      <td>96</td>\n",
              "      <td>5.0</td>\n",
              "      <td>Dermatologic Surgeon</td>\n",
              "      <td>volbella</td>\n",
              "      <td>Dr. Schlessinger did a fantastic job giving me...</td>\n",
              "      <td>0.0</td>\n",
              "      <td>NO cost with insurance</td>\n",
              "      <td>no payment</td>\n",
              "      <td>1</td>\n",
              "      <td>7</td>\n",
              "      <td>0.0</td>\n",
              "      <td>1.00</td>\n",
              "      <td>0.25</td>\n",
              "    </tr>\n",
              "    <tr>\n",
              "      <th>2</th>\n",
              "      <td>2019-01-13</td>\n",
              "      <td>Worth it</td>\n",
              "      <td>2</td>\n",
              "      <td>93</td>\n",
              "      <td>5.0</td>\n",
              "      <td>Plastic Surgeon</td>\n",
              "      <td>volbella</td>\n",
              "      <td>Amazing Artistry!</td>\n",
              "      <td>0.0</td>\n",
              "      <td>NO cost with insurance</td>\n",
              "      <td>no payment</td>\n",
              "      <td>1</td>\n",
              "      <td>7</td>\n",
              "      <td>0.2</td>\n",
              "      <td>1.00</td>\n",
              "      <td>0.25</td>\n",
              "    </tr>\n",
              "    <tr>\n",
              "      <th>3</th>\n",
              "      <td>2019-06-30</td>\n",
              "      <td>Worth it</td>\n",
              "      <td>0</td>\n",
              "      <td>80</td>\n",
              "      <td>5.0</td>\n",
              "      <td>Family Physician</td>\n",
              "      <td>volbella</td>\n",
              "      <td>Expert Injector!</td>\n",
              "      <td>0.0</td>\n",
              "      <td>NO cost with insurance</td>\n",
              "      <td>no payment</td>\n",
              "      <td>1</td>\n",
              "      <td>7</td>\n",
              "      <td>0.0</td>\n",
              "      <td>1.00</td>\n",
              "      <td>0.25</td>\n",
              "    </tr>\n",
              "    <tr>\n",
              "      <th>4</th>\n",
              "      <td>2019-03-21</td>\n",
              "      <td>Not worth it</td>\n",
              "      <td>3</td>\n",
              "      <td>172</td>\n",
              "      <td>NaN</td>\n",
              "      <td>NaN</td>\n",
              "      <td>volbella</td>\n",
              "      <td>Late Reaction to Volbella</td>\n",
              "      <td>750.0</td>\n",
              "      <td>pay</td>\n",
              "      <td>acceptable</td>\n",
              "      <td>-1</td>\n",
              "      <td>5</td>\n",
              "      <td>0.2</td>\n",
              "      <td>1.25</td>\n",
              "      <td>0.00</td>\n",
              "    </tr>\n",
              "  </tbody>\n",
              "</table>\n",
              "</div>"
            ],
            "text/plain": [
              "  Created Date Treatment Rating  Number of Photos  ...  score_ph  score_w score_pr\n",
              "0   2019-05-31         Worth it                 0  ...       0.0     1.25     0.25\n",
              "1   2019-02-13         Worth it                 0  ...       0.0     1.00     0.25\n",
              "2   2019-01-13         Worth it                 2  ...       0.2     1.00     0.25\n",
              "3   2019-06-30         Worth it                 0  ...       0.0     1.00     0.25\n",
              "4   2019-03-21     Not worth it                 3  ...       0.2     1.25     0.00\n",
              "\n",
              "[5 rows x 16 columns]"
            ]
          },
          "metadata": {
            "tags": []
          },
          "execution_count": 35
        }
      ]
    },
    {
      "cell_type": "markdown",
      "metadata": {
        "id": "LH6FwfRQiHvH"
      },
      "source": [
        "### Overall Rating"
      ]
    },
    {
      "cell_type": "code",
      "metadata": {
        "id": "SgQ6pQsQFZ8k"
      },
      "source": [
        "# Calucalte overall score for each consumer\n",
        "df['score'] = df['score_tr'] + (df['score_ph'] + df['score_w']) * df['sign'] + df['score_pr']"
      ],
      "execution_count": null,
      "outputs": []
    },
    {
      "cell_type": "code",
      "metadata": {
        "colab": {
          "base_uri": "https://localhost:8080/"
        },
        "id": "lgGnMZNaFaAB",
        "outputId": "2baa3f2e-9b00-47d6-ef2a-22a47ddc441d"
      },
      "source": [
        "df['score'].describe()"
      ],
      "execution_count": null,
      "outputs": [
        {
          "output_type": "execute_result",
          "data": {
            "text/plain": [
              "count    662.000000\n",
              "mean       7.849849\n",
              "std        1.087294\n",
              "min        1.850000\n",
              "25%        7.750000\n",
              "50%        8.000000\n",
              "75%        8.250000\n",
              "max        9.500000\n",
              "Name: score, dtype: float64"
            ]
          },
          "metadata": {
            "tags": []
          },
          "execution_count": 37
        }
      ]
    },
    {
      "cell_type": "code",
      "metadata": {
        "colab": {
          "base_uri": "https://localhost:8080/",
          "height": 374
        },
        "id": "dOuGHnXLFaC3",
        "outputId": "aa0795ff-0ec6-4530-c1b3-94da4f23def2"
      },
      "source": [
        "df['score'].hist(bins = 36,figsize=(10,6));"
      ],
      "execution_count": null,
      "outputs": [
        {
          "output_type": "display_data",
          "data": {
            "image/png": "[encoded data removed]",
            "text/plain": [
              "<Figure size 720x432 with 1 Axes>"
            ]
          },
          "metadata": {
            "tags": [],
            "needs_background": "light"
          }
        }
      ]
    },
    {
      "cell_type": "code",
      "metadata": {
        "colab": {
          "base_uri": "https://localhost:8080/",
          "height": 225
        },
        "id": "F1cuTLPxhOBM",
        "outputId": "2f85d066-e932-4274-9818-eca5e8de6fe6"
      },
      "source": [
        "rate = df[['Treatment Name','score']].groupby(['Treatment Name'])\n",
        "rate.agg('describe')"
      ],
      "execution_count": null,
      "outputs": [
        {
          "output_type": "execute_result",
          "data": {
            "text/html": [
              "<div>\n",
              "<style scoped>\n",
              "    .dataframe tbody tr th:only-of-type {\n",
              "        vertical-align: middle;\n",
              "    }\n",
              "\n",
              "    .dataframe tbody tr th {\n",
              "        vertical-align: top;\n",
              "    }\n",
              "\n",
              "    .dataframe thead tr th {\n",
              "        text-align: left;\n",
              "    }\n",
              "\n",
              "    .dataframe thead tr:last-of-type th {\n",
              "        text-align: right;\n",
              "    }\n",
              "</style>\n",
              "<table border=\"1\" class=\"dataframe\">\n",
              "  <thead>\n",
              "    <tr>\n",
              "      <th></th>\n",
              "      <th colspan=\"8\" halign=\"left\">score</th>\n",
              "    </tr>\n",
              "    <tr>\n",
              "      <th></th>\n",
              "      <th>count</th>\n",
              "      <th>mean</th>\n",
              "      <th>std</th>\n",
              "      <th>min</th>\n",
              "      <th>25%</th>\n",
              "      <th>50%</th>\n",
              "      <th>75%</th>\n",
              "      <th>max</th>\n",
              "    </tr>\n",
              "    <tr>\n",
              "      <th>Treatment Name</th>\n",
              "      <th></th>\n",
              "      <th></th>\n",
              "      <th></th>\n",
              "      <th></th>\n",
              "      <th></th>\n",
              "      <th></th>\n",
              "      <th></th>\n",
              "      <th></th>\n",
              "    </tr>\n",
              "  </thead>\n",
              "  <tbody>\n",
              "    <tr>\n",
              "      <th>botox</th>\n",
              "      <td>595.0</td>\n",
              "      <td>7.869916</td>\n",
              "      <td>1.009318</td>\n",
              "      <td>1.85</td>\n",
              "      <td>7.7500</td>\n",
              "      <td>8.00</td>\n",
              "      <td>8.25</td>\n",
              "      <td>9.50</td>\n",
              "    </tr>\n",
              "    <tr>\n",
              "      <th>chemical peel</th>\n",
              "      <td>28.0</td>\n",
              "      <td>7.766071</td>\n",
              "      <td>1.490840</td>\n",
              "      <td>2.55</td>\n",
              "      <td>7.7500</td>\n",
              "      <td>8.00</td>\n",
              "      <td>8.50</td>\n",
              "      <td>9.25</td>\n",
              "    </tr>\n",
              "    <tr>\n",
              "      <th>coolmini</th>\n",
              "      <td>16.0</td>\n",
              "      <td>7.606250</td>\n",
              "      <td>1.866447</td>\n",
              "      <td>2.80</td>\n",
              "      <td>7.9375</td>\n",
              "      <td>8.05</td>\n",
              "      <td>8.50</td>\n",
              "      <td>9.15</td>\n",
              "    </tr>\n",
              "    <tr>\n",
              "      <th>volbella</th>\n",
              "      <td>23.0</td>\n",
              "      <td>7.602174</td>\n",
              "      <td>1.668660</td>\n",
              "      <td>3.30</td>\n",
              "      <td>7.8750</td>\n",
              "      <td>8.25</td>\n",
              "      <td>8.45</td>\n",
              "      <td>8.90</td>\n",
              "    </tr>\n",
              "  </tbody>\n",
              "</table>\n",
              "</div>"
            ],
            "text/plain": [
              "                score                                                    \n",
              "                count      mean       std   min     25%   50%   75%   max\n",
              "Treatment Name                                                           \n",
              "botox           595.0  7.869916  1.009318  1.85  7.7500  8.00  8.25  9.50\n",
              "chemical peel    28.0  7.766071  1.490840  2.55  7.7500  8.00  8.50  9.25\n",
              "coolmini         16.0  7.606250  1.866447  2.80  7.9375  8.05  8.50  9.15\n",
              "volbella         23.0  7.602174  1.668660  3.30  7.8750  8.25  8.45  8.90"
            ]
          },
          "metadata": {
            "tags": []
          },
          "execution_count": 39
        }
      ]
    },
    {
      "cell_type": "code",
      "metadata": {
        "colab": {
          "base_uri": "https://localhost:8080/"
        },
        "id": "yXpKvCP-kbEU",
        "outputId": "3ae5921e-88a0-4435-9ee5-51af61343ad0"
      },
      "source": [
        "rate.boxplot(column=['score'], by=['Treatment Name'],layout=(1,4),figsize=(20,8))\n",
        "plt.show()"
      ],
      "execution_count": null,
      "outputs": [
        {
          "output_type": "display_data",
          "data": {
            "image/png": "[encoded data removed]",
            "text/plain": [
              "<Figure size 1440x576 with 4 Axes>"
            ]
          },
          "metadata": {
            "tags": [],
            "needs_background": "light"
          }
        }
      ]
    },
    {
      "cell_type": "code",
      "metadata": {
        "id": "Sq4wgCQlkbKk"
      },
      "source": [
        "df.to_csv('with_overall_score.csv')"
      ],
      "execution_count": null,
      "outputs": []
    },
    {
      "cell_type": "markdown",
      "metadata": {
        "id": "w7FbtefJen1N"
      },
      "source": [
        "## Are there factors that are correlated with a high rating?"
      ]
    },
    {
      "cell_type": "markdown",
      "metadata": {
        "id": "WFp_eWVUkRig"
      },
      "source": [
        "### Indepence between Treatment type and treatment rating"
      ]
    },
    {
      "cell_type": "code",
      "metadata": {
        "colab": {
          "base_uri": "https://localhost:8080/",
          "height": 195
        },
        "id": "_CQqSrdrOGwg",
        "outputId": "7ee03d8a-3ebd-4917-9b4c-e5f2e6bb7516"
      },
      "source": [
        "rate_table"
      ],
      "execution_count": null,
      "outputs": [
        {
          "output_type": "execute_result",
          "data": {
            "text/html": [
              "<div>\n",
              "<style scoped>\n",
              "    .dataframe tbody tr th:only-of-type {\n",
              "        vertical-align: middle;\n",
              "    }\n",
              "\n",
              "    .dataframe tbody tr th {\n",
              "        vertical-align: top;\n",
              "    }\n",
              "\n",
              "    .dataframe thead th {\n",
              "        text-align: right;\n",
              "    }\n",
              "</style>\n",
              "<table border=\"1\" class=\"dataframe\">\n",
              "  <thead>\n",
              "    <tr style=\"text-align: right;\">\n",
              "      <th>Treatment Rating</th>\n",
              "      <th>Not worth it</th>\n",
              "      <th>Worth it</th>\n",
              "    </tr>\n",
              "    <tr>\n",
              "      <th>Treatment Name</th>\n",
              "      <th></th>\n",
              "      <th></th>\n",
              "    </tr>\n",
              "  </thead>\n",
              "  <tbody>\n",
              "    <tr>\n",
              "      <th>botox</th>\n",
              "      <td>23</td>\n",
              "      <td>572</td>\n",
              "    </tr>\n",
              "    <tr>\n",
              "      <th>chemical peel</th>\n",
              "      <td>3</td>\n",
              "      <td>25</td>\n",
              "    </tr>\n",
              "    <tr>\n",
              "      <th>coolmini</th>\n",
              "      <td>2</td>\n",
              "      <td>14</td>\n",
              "    </tr>\n",
              "    <tr>\n",
              "      <th>volbella</th>\n",
              "      <td>3</td>\n",
              "      <td>20</td>\n",
              "    </tr>\n",
              "  </tbody>\n",
              "</table>\n",
              "</div>"
            ],
            "text/plain": [
              "Treatment Rating  Not worth it  Worth it\n",
              "Treatment Name                          \n",
              "botox                       23       572\n",
              "chemical peel                3        25\n",
              "coolmini                     2        14\n",
              "volbella                     3        20"
            ]
          },
          "metadata": {
            "tags": []
          },
          "execution_count": 36
        }
      ]
    },
    {
      "cell_type": "code",
      "metadata": {
        "colab": {
          "base_uri": "https://localhost:8080/"
        },
        "id": "8mXBAyOHA7CZ",
        "outputId": "e0a27d87-4af3-4137-9224-af37618f31ec"
      },
      "source": [
        "# Apply Chi-square test of independence of variables in a contingency table.\n",
        "chi2, p, dof, ex = chi2_contingency(rate_table)\n",
        "chi2,p"
      ],
      "execution_count": null,
      "outputs": [
        {
          "output_type": "execute_result",
          "data": {
            "text/plain": [
              "(8.964878378919288, 0.029761510613677298)"
            ]
          },
          "metadata": {
            "tags": []
          },
          "execution_count": 37
        }
      ]
    },
    {
      "cell_type": "markdown",
      "metadata": {
        "id": "pu-R0THfkmDj"
      },
      "source": [
        "Assume significance level = 0.05.\n",
        "P < 0.05, so we reject null hypothesis, then we believe that treatment type is correlated to treatment rating"
      ]
    },
    {
      "cell_type": "code",
      "metadata": {
        "id": "hBbBqGeQbV3l"
      },
      "source": [
        "# Since 3 cells which sample size is less than 5, Fisher exact test is applied as well for double check\n",
        "\n",
        "rpy2.robjects.numpy2ri.activate()"
      ],
      "execution_count": null,
      "outputs": []
    },
    {
      "cell_type": "code",
      "metadata": {
        "colab": {
          "base_uri": "https://localhost:8080/"
        },
        "id": "Z2_IJjQuem0u",
        "outputId": "c4b6944d-04e2-4a63-d635-f14afa202bd2"
      },
      "source": [
        "arr = rate_table.to_numpy() # Convert dataframe to array for calculation\n",
        "stats = importr('stats')\n",
        "res = stats.fisher_test(arr)\n",
        "print(res)"
      ],
      "execution_count": null,
      "outputs": [
        {
          "output_type": "stream",
          "text": [
            "\n",
            "\tFisher's Exact Test for Count Data\n",
            "\n",
            "data:  structure(c(23L, 3L, 2L, 3L, 572L, 25L, 14L, 20L), .Dim = c(4L, 2L))\n",
            "p-value = 0.01889\n",
            "alternative hypothesis: two.sided\n",
            "\n",
            "\n"
          ],
          "name": "stdout"
        }
      ]
    },
    {
      "cell_type": "markdown",
      "metadata": {
        "id": "ndg6Z17tlVSI"
      },
      "source": [
        "Fisher exact test result confirm the result.\n",
        "Treatment type is correlated to rating"
      ]
    },
    {
      "cell_type": "code",
      "metadata": {
        "colab": {
          "base_uri": "https://localhost:8080/"
        },
        "id": "7IWyN4LhQYQO",
        "outputId": "38913cd3-6544-4acf-8568-ba7e2edb3f75"
      },
      "source": [
        "len(df['Physician Type'].unique())\n"
      ],
      "execution_count": null,
      "outputs": [
        {
          "output_type": "execute_result",
          "data": {
            "text/plain": [
              "33"
            ]
          },
          "metadata": {
            "tags": []
          },
          "execution_count": 40
        }
      ]
    },
    {
      "cell_type": "code",
      "metadata": {
        "colab": {
          "base_uri": "https://localhost:8080/"
        },
        "id": "X59CiNyo1Ky4",
        "outputId": "abfa5e76-f9e0-4061-89b6-308ab2ff7060"
      },
      "source": [
        "df['Physician Type'].isnull().sum()"
      ],
      "execution_count": 61,
      "outputs": [
        {
          "output_type": "execute_result",
          "data": {
            "text/plain": [
              "115"
            ]
          },
          "metadata": {
            "tags": []
          },
          "execution_count": 61
        }
      ]
    },
    {
      "cell_type": "code",
      "metadata": {
        "colab": {
          "base_uri": "https://localhost:8080/",
          "height": 314
        },
        "id": "WXYekk0YQYY3",
        "outputId": "77399716-bac4-440c-ebf7-fbf3d509d47f"
      },
      "source": [
        "## There are 115 null values in physician type, and the type name contains too many duplicates so I'll just ignore this feature. \n",
        "df.groupby(['Physician Type','Treatment Rating']).size().unstack().head(8)"
      ],
      "execution_count": null,
      "outputs": [
        {
          "output_type": "execute_result",
          "data": {
            "text/html": [
              "<div>\n",
              "<style scoped>\n",
              "    .dataframe tbody tr th:only-of-type {\n",
              "        vertical-align: middle;\n",
              "    }\n",
              "\n",
              "    .dataframe tbody tr th {\n",
              "        vertical-align: top;\n",
              "    }\n",
              "\n",
              "    .dataframe thead th {\n",
              "        text-align: right;\n",
              "    }\n",
              "</style>\n",
              "<table border=\"1\" class=\"dataframe\">\n",
              "  <thead>\n",
              "    <tr style=\"text-align: right;\">\n",
              "      <th>Treatment Rating</th>\n",
              "      <th>Not worth it</th>\n",
              "      <th>Worth it</th>\n",
              "    </tr>\n",
              "    <tr>\n",
              "      <th>Physician Type</th>\n",
              "      <th></th>\n",
              "      <th></th>\n",
              "    </tr>\n",
              "  </thead>\n",
              "  <tbody>\n",
              "    <tr>\n",
              "      <th>Anesthesiologist</th>\n",
              "      <td>NaN</td>\n",
              "      <td>1.0</td>\n",
              "    </tr>\n",
              "    <tr>\n",
              "      <th>Bariatric Surgeon</th>\n",
              "      <td>NaN</td>\n",
              "      <td>1.0</td>\n",
              "    </tr>\n",
              "    <tr>\n",
              "      <th>Board Eligible Plastic Surgeon</th>\n",
              "      <td>NaN</td>\n",
              "      <td>1.0</td>\n",
              "    </tr>\n",
              "    <tr>\n",
              "      <th>Dentist</th>\n",
              "      <td>NaN</td>\n",
              "      <td>3.0</td>\n",
              "    </tr>\n",
              "    <tr>\n",
              "      <th>Dermatologic Surgeon</th>\n",
              "      <td>1.0</td>\n",
              "      <td>52.0</td>\n",
              "    </tr>\n",
              "    <tr>\n",
              "      <th>Dermatologic Surgeon,Physician,Physician,Pediatrician,Physician,Physician</th>\n",
              "      <td>NaN</td>\n",
              "      <td>1.0</td>\n",
              "    </tr>\n",
              "    <tr>\n",
              "      <th>Dermatologic Surgeon,Plastic Surgeon</th>\n",
              "      <td>NaN</td>\n",
              "      <td>2.0</td>\n",
              "    </tr>\n",
              "    <tr>\n",
              "      <th>Dermatologist</th>\n",
              "      <td>NaN</td>\n",
              "      <td>15.0</td>\n",
              "    </tr>\n",
              "  </tbody>\n",
              "</table>\n",
              "</div>"
            ],
            "text/plain": [
              "Treatment Rating                                    Not worth it  Worth it\n",
              "Physician Type                                                            \n",
              "Anesthesiologist                                             NaN       1.0\n",
              "Bariatric Surgeon                                            NaN       1.0\n",
              "Board Eligible Plastic Surgeon                               NaN       1.0\n",
              "Dentist                                                      NaN       3.0\n",
              "Dermatologic Surgeon                                         1.0      52.0\n",
              "Dermatologic Surgeon,Physician,Physician,Pediat...           NaN       1.0\n",
              "Dermatologic Surgeon,Plastic Surgeon                         NaN       2.0\n",
              "Dermatologist                                                NaN      15.0"
            ]
          },
          "metadata": {
            "tags": []
          },
          "execution_count": 41
        }
      ]
    },
    {
      "cell_type": "markdown",
      "metadata": {
        "id": "M2rXqZEBjAbr"
      },
      "source": [
        "### Indepence between cost and rating\n",
        "I guess consumers rating will be affected by cost.\n",
        "For example, one will be happy for a little change when they pay less, but will be disappointed when change is not that obvious as expected when paying an expensive price."
      ]
    },
    {
      "cell_type": "code",
      "metadata": {
        "colab": {
          "base_uri": "https://localhost:8080/",
          "height": 391
        },
        "id": "Q5ASX2e4TM0j",
        "outputId": "12c91b2b-015d-42d6-9f07-202481de58eb"
      },
      "source": [
        "df['Cost'].hist(bins=50,figsize=(12,6))"
      ],
      "execution_count": null,
      "outputs": [
        {
          "output_type": "execute_result",
          "data": {
            "text/plain": [
              "<matplotlib.axes._subplots.AxesSubplot at 0x7f8e4a59c250>"
            ]
          },
          "metadata": {
            "tags": []
          },
          "execution_count": 42
        },
        {
          "output_type": "display_data",
          "data": {
            "image/png": "[encoded data removed]",
            "text/plain": [
              "<Figure size 864x432 with 1 Axes>"
            ]
          },
          "metadata": {
            "tags": [],
            "needs_background": "light"
          }
        }
      ]
    },
    {
      "cell_type": "code",
      "metadata": {
        "colab": {
          "base_uri": "https://localhost:8080/",
          "height": 195
        },
        "id": "GNK-KtFCZNXt",
        "outputId": "cba85a69-2c3b-4aa7-bb22-278ad8691fb4"
      },
      "source": [
        "cost = df.groupby(['cost_level','Treatment Rating']).size().unstack()\n",
        "cost"
      ],
      "execution_count": null,
      "outputs": [
        {
          "output_type": "execute_result",
          "data": {
            "text/html": [
              "<div>\n",
              "<style scoped>\n",
              "    .dataframe tbody tr th:only-of-type {\n",
              "        vertical-align: middle;\n",
              "    }\n",
              "\n",
              "    .dataframe tbody tr th {\n",
              "        vertical-align: top;\n",
              "    }\n",
              "\n",
              "    .dataframe thead th {\n",
              "        text-align: right;\n",
              "    }\n",
              "</style>\n",
              "<table border=\"1\" class=\"dataframe\">\n",
              "  <thead>\n",
              "    <tr style=\"text-align: right;\">\n",
              "      <th>Treatment Rating</th>\n",
              "      <th>Not worth it</th>\n",
              "      <th>Worth it</th>\n",
              "    </tr>\n",
              "    <tr>\n",
              "      <th>cost_level</th>\n",
              "      <th></th>\n",
              "      <th></th>\n",
              "    </tr>\n",
              "  </thead>\n",
              "  <tbody>\n",
              "    <tr>\n",
              "      <th>a fair price</th>\n",
              "      <td>10</td>\n",
              "      <td>136</td>\n",
              "    </tr>\n",
              "    <tr>\n",
              "      <th>acceptable</th>\n",
              "      <td>5</td>\n",
              "      <td>91</td>\n",
              "    </tr>\n",
              "    <tr>\n",
              "      <th>expensive</th>\n",
              "      <td>6</td>\n",
              "      <td>20</td>\n",
              "    </tr>\n",
              "    <tr>\n",
              "      <th>no payment</th>\n",
              "      <td>10</td>\n",
              "      <td>384</td>\n",
              "    </tr>\n",
              "  </tbody>\n",
              "</table>\n",
              "</div>"
            ],
            "text/plain": [
              "Treatment Rating  Not worth it  Worth it\n",
              "cost_level                              \n",
              "a fair price                10       136\n",
              "acceptable                   5        91\n",
              "expensive                    6        20\n",
              "no payment                  10       384"
            ]
          },
          "metadata": {
            "tags": []
          },
          "execution_count": 40
        }
      ]
    },
    {
      "cell_type": "code",
      "metadata": {
        "colab": {
          "base_uri": "https://localhost:8080/"
        },
        "id": "V9bX_4JhWaF_",
        "outputId": "567d0740-dbb0-4cb2-e656-e355370e7995"
      },
      "source": [
        "chi2_cost, p_cost, dof_cost, ex = chi2_contingency(cost)\n",
        "chi2_cost, p_cost"
      ],
      "execution_count": null,
      "outputs": [
        {
          "output_type": "execute_result",
          "data": {
            "text/plain": [
              "(25.36373351025448, 1.2959569200056455e-05)"
            ]
          },
          "metadata": {
            "tags": []
          },
          "execution_count": 45
        }
      ]
    },
    {
      "cell_type": "markdown",
      "metadata": {
        "id": "cQwOhPK9lr9O"
      },
      "source": [
        "P << 0.01, so the cost is a main factor correlated to high rating."
      ]
    },
    {
      "cell_type": "markdown",
      "metadata": {
        "id": "860qDY8tmPBX"
      },
      "source": [
        "### Indepence between provider rating and Treatment rating.\n",
        "\n",
        " "
      ]
    },
    {
      "cell_type": "code",
      "metadata": {
        "colab": {
          "base_uri": "https://localhost:8080/"
        },
        "id": "Xu9qikgFUJ39",
        "outputId": "e0144a4a-c430-4546-a50e-37dbbd9f0a58"
      },
      "source": [
        "df.groupby(['Provider Rating']).size()"
      ],
      "execution_count": null,
      "outputs": [
        {
          "output_type": "execute_result",
          "data": {
            "text/plain": [
              "Provider Rating\n",
              "1.0     19\n",
              "2.0      2\n",
              "3.0      2\n",
              "4.0      8\n",
              "5.0    613\n",
              "dtype: int64"
            ]
          },
          "metadata": {
            "tags": []
          },
          "execution_count": 46
        }
      ]
    },
    {
      "cell_type": "code",
      "metadata": {
        "id": "XGzQJOtdpBoO"
      },
      "source": [
        "# re-organize data\n",
        "def provider_satisfy(dataframe):\n",
        "  if dataframe['Provider Rating'] == 5:\n",
        "    return 'Satisfied'\n",
        "  elif dataframe['Provider Rating'] >=3:\n",
        "    return 'Neutral'\n",
        "  elif dataframe['Provider Rating'] >= 1:\n",
        "    return 'Unsatisfied'\n",
        "  else:\n",
        "    return 'No rating'\n",
        "df.loc[:,'provider_satisfy'] = df.apply(provider_satisfy,axis = 1)"
      ],
      "execution_count": null,
      "outputs": []
    },
    {
      "cell_type": "code",
      "metadata": {
        "colab": {
          "base_uri": "https://localhost:8080/",
          "height": 366
        },
        "id": "L_227j3aqIZk",
        "outputId": "21dfb863-b4ba-4202-83a7-a21f736b032a"
      },
      "source": [
        "df[df['Provider Rating']!=5].head(5)"
      ],
      "execution_count": null,
      "outputs": [
        {
          "output_type": "execute_result",
          "data": {
            "text/html": [
              "<div>\n",
              "<style scoped>\n",
              "    .dataframe tbody tr th:only-of-type {\n",
              "        vertical-align: middle;\n",
              "    }\n",
              "\n",
              "    .dataframe tbody tr th {\n",
              "        vertical-align: top;\n",
              "    }\n",
              "\n",
              "    .dataframe thead th {\n",
              "        text-align: right;\n",
              "    }\n",
              "</style>\n",
              "<table border=\"1\" class=\"dataframe\">\n",
              "  <thead>\n",
              "    <tr style=\"text-align: right;\">\n",
              "      <th></th>\n",
              "      <th>Created Date</th>\n",
              "      <th>Treatment Rating</th>\n",
              "      <th>Number of Photos</th>\n",
              "      <th>Number of Words</th>\n",
              "      <th>Provider Rating</th>\n",
              "      <th>Physician Type</th>\n",
              "      <th>Treatment Name</th>\n",
              "      <th>Title</th>\n",
              "      <th>Cost</th>\n",
              "      <th>if_pay</th>\n",
              "      <th>sign</th>\n",
              "      <th>score_tr</th>\n",
              "      <th>score_ph</th>\n",
              "      <th>score_w</th>\n",
              "      <th>score_pr</th>\n",
              "      <th>score</th>\n",
              "      <th>cost_level</th>\n",
              "      <th>provider_satisfy</th>\n",
              "    </tr>\n",
              "  </thead>\n",
              "  <tbody>\n",
              "    <tr>\n",
              "      <th>4</th>\n",
              "      <td>2019-03-21</td>\n",
              "      <td>Not worth it</td>\n",
              "      <td>3</td>\n",
              "      <td>172</td>\n",
              "      <td>NaN</td>\n",
              "      <td>NaN</td>\n",
              "      <td>volbella</td>\n",
              "      <td>Late Reaction to Volbella</td>\n",
              "      <td>750.0</td>\n",
              "      <td>pay</td>\n",
              "      <td>-1</td>\n",
              "      <td>5</td>\n",
              "      <td>0.2</td>\n",
              "      <td>1.25</td>\n",
              "      <td>0.0</td>\n",
              "      <td>3.55</td>\n",
              "      <td>acceptable</td>\n",
              "      <td>No rating</td>\n",
              "    </tr>\n",
              "    <tr>\n",
              "      <th>10</th>\n",
              "      <td>2019-02-05</td>\n",
              "      <td>Not worth it</td>\n",
              "      <td>2</td>\n",
              "      <td>87</td>\n",
              "      <td>1.0</td>\n",
              "      <td>Physician</td>\n",
              "      <td>volbella</td>\n",
              "      <td>DISAPPOINTED</td>\n",
              "      <td>400.0</td>\n",
              "      <td>pay</td>\n",
              "      <td>-1</td>\n",
              "      <td>5</td>\n",
              "      <td>0.2</td>\n",
              "      <td>1.00</td>\n",
              "      <td>-0.5</td>\n",
              "      <td>3.30</td>\n",
              "      <td>a fair price</td>\n",
              "      <td>Unsatisfied</td>\n",
              "    </tr>\n",
              "    <tr>\n",
              "      <th>22</th>\n",
              "      <td>2019-06-26</td>\n",
              "      <td>Not worth it</td>\n",
              "      <td>0</td>\n",
              "      <td>79</td>\n",
              "      <td>1.0</td>\n",
              "      <td>Physician</td>\n",
              "      <td>volbella</td>\n",
              "      <td>No way</td>\n",
              "      <td>485.0</td>\n",
              "      <td>pay</td>\n",
              "      <td>-1</td>\n",
              "      <td>5</td>\n",
              "      <td>0.0</td>\n",
              "      <td>1.00</td>\n",
              "      <td>-0.5</td>\n",
              "      <td>3.50</td>\n",
              "      <td>acceptable</td>\n",
              "      <td>Unsatisfied</td>\n",
              "    </tr>\n",
              "    <tr>\n",
              "      <th>23</th>\n",
              "      <td>2019-05-10</td>\n",
              "      <td>Worth it</td>\n",
              "      <td>0</td>\n",
              "      <td>229</td>\n",
              "      <td>4.0</td>\n",
              "      <td>NaN</td>\n",
              "      <td>coolmini</td>\n",
              "      <td>CoolMini is definitely worth it</td>\n",
              "      <td>0.0</td>\n",
              "      <td>NO cost with insurance</td>\n",
              "      <td>1</td>\n",
              "      <td>7</td>\n",
              "      <td>0.0</td>\n",
              "      <td>1.50</td>\n",
              "      <td>0.1</td>\n",
              "      <td>8.60</td>\n",
              "      <td>no payment</td>\n",
              "      <td>Neutral</td>\n",
              "    </tr>\n",
              "    <tr>\n",
              "      <th>25</th>\n",
              "      <td>2019-03-04</td>\n",
              "      <td>Worth it</td>\n",
              "      <td>5</td>\n",
              "      <td>344</td>\n",
              "      <td>NaN</td>\n",
              "      <td>NaN</td>\n",
              "      <td>coolmini</td>\n",
              "      <td>22 Years 135 Lbs, Always Had a Double Chin</td>\n",
              "      <td>1500.0</td>\n",
              "      <td>pay</td>\n",
              "      <td>1</td>\n",
              "      <td>7</td>\n",
              "      <td>0.4</td>\n",
              "      <td>1.75</td>\n",
              "      <td>0.0</td>\n",
              "      <td>9.15</td>\n",
              "      <td>expensive</td>\n",
              "      <td>No rating</td>\n",
              "    </tr>\n",
              "  </tbody>\n",
              "</table>\n",
              "</div>"
            ],
            "text/plain": [
              "   Created Date Treatment Rating  ...    cost_level  provider_satisfy\n",
              "4    2019-03-21     Not worth it  ...    acceptable         No rating\n",
              "10   2019-02-05     Not worth it  ...  a fair price       Unsatisfied\n",
              "22   2019-06-26     Not worth it  ...    acceptable       Unsatisfied\n",
              "23   2019-05-10         Worth it  ...    no payment           Neutral\n",
              "25   2019-03-04         Worth it  ...     expensive         No rating\n",
              "\n",
              "[5 rows x 18 columns]"
            ]
          },
          "metadata": {
            "tags": []
          },
          "execution_count": 48
        }
      ]
    },
    {
      "cell_type": "code",
      "metadata": {
        "colab": {
          "base_uri": "https://localhost:8080/",
          "height": 195
        },
        "id": "a4gIPpBFrAY-",
        "outputId": "2dba813c-7760-4ef3-d446-c6ed3aa14d55"
      },
      "source": [
        "satisfy_table = df.groupby(['provider_satisfy','Treatment Rating']).size().unstack()\n",
        "satisfy_table"
      ],
      "execution_count": null,
      "outputs": [
        {
          "output_type": "execute_result",
          "data": {
            "text/html": [
              "<div>\n",
              "<style scoped>\n",
              "    .dataframe tbody tr th:only-of-type {\n",
              "        vertical-align: middle;\n",
              "    }\n",
              "\n",
              "    .dataframe tbody tr th {\n",
              "        vertical-align: top;\n",
              "    }\n",
              "\n",
              "    .dataframe thead th {\n",
              "        text-align: right;\n",
              "    }\n",
              "</style>\n",
              "<table border=\"1\" class=\"dataframe\">\n",
              "  <thead>\n",
              "    <tr style=\"text-align: right;\">\n",
              "      <th>Treatment Rating</th>\n",
              "      <th>Not worth it</th>\n",
              "      <th>Worth it</th>\n",
              "    </tr>\n",
              "    <tr>\n",
              "      <th>provider_satisfy</th>\n",
              "      <th></th>\n",
              "      <th></th>\n",
              "    </tr>\n",
              "  </thead>\n",
              "  <tbody>\n",
              "    <tr>\n",
              "      <th>Neutral</th>\n",
              "      <td>2</td>\n",
              "      <td>8</td>\n",
              "    </tr>\n",
              "    <tr>\n",
              "      <th>No rating</th>\n",
              "      <td>8</td>\n",
              "      <td>10</td>\n",
              "    </tr>\n",
              "    <tr>\n",
              "      <th>Satisfied</th>\n",
              "      <td>1</td>\n",
              "      <td>612</td>\n",
              "    </tr>\n",
              "    <tr>\n",
              "      <th>Unsatisfied</th>\n",
              "      <td>20</td>\n",
              "      <td>1</td>\n",
              "    </tr>\n",
              "  </tbody>\n",
              "</table>\n",
              "</div>"
            ],
            "text/plain": [
              "Treatment Rating  Not worth it  Worth it\n",
              "provider_satisfy                        \n",
              "Neutral                      2         8\n",
              "No rating                    8        10\n",
              "Satisfied                    1       612\n",
              "Unsatisfied                 20         1"
            ]
          },
          "metadata": {
            "tags": []
          },
          "execution_count": 49
        }
      ]
    },
    {
      "cell_type": "code",
      "metadata": {
        "colab": {
          "base_uri": "https://localhost:8080/"
        },
        "id": "y6JVogmGrAiM",
        "outputId": "e4eedbeb-f12c-4e7a-8721-cb79c35614e6"
      },
      "source": [
        "arr_1 = satisfy_table.to_numpy() # Convert dataframe to array for calculation\n",
        "stats = importr('stats')\n",
        "res_1 = stats.fisher_test(arr_1)\n",
        "print(res_1)"
      ],
      "execution_count": null,
      "outputs": [
        {
          "output_type": "stream",
          "text": [
            "\n",
            "\tFisher's Exact Test for Count Data\n",
            "\n",
            "data:  structure(c(2L, 8L, 1L, 20L, 8L, 10L, 612L, 1L), .Dim = c(4L, 2L))\n",
            "p-value < 2.2e-16\n",
            "alternative hypothesis: two.sided\n",
            "\n",
            "\n"
          ],
          "name": "stdout"
        }
      ]
    },
    {
      "cell_type": "markdown",
      "metadata": {
        "id": "vihfrstlsfES"
      },
      "source": [
        "P is close to 0, which means provider rating is highly correlated to Treatment rating.\n",
        "However, this conclusion is somehow meaningless.\n",
        "Although treatment rating is a measurement of satisfaction for treatment only, we could not exclude the impact from the provider to the consumer. In the other words, consumers rated the treatment based on not only surgery result, but also the experience they have. A patient, responsible and well-communicated physician could give a positive impact on consumers' rating of the treatment with no doubt. So rating for both provider and treatment are almost equivalent."
      ]
    },
    {
      "cell_type": "code",
      "metadata": {
        "id": "cF4dMizaxhmG"
      },
      "source": [
        ""
      ],
      "execution_count": null,
      "outputs": []
    },
    {
      "cell_type": "markdown",
      "metadata": {
        "id": "XjSUXV74ximx"
      },
      "source": [
        "### ANOVA for testing if making payments affect consumers' rating"
      ]
    },
    {
      "cell_type": "code",
      "metadata": {
        "colab": {
          "base_uri": "https://localhost:8080/",
          "height": 166
        },
        "id": "EClWfLDwUJ60",
        "outputId": "10839ed7-8e92-4c8a-8c5e-587542a5fd12"
      },
      "source": [
        "df[['score','if_pay']].groupby('if_pay').describe()"
      ],
      "execution_count": null,
      "outputs": [
        {
          "output_type": "execute_result",
          "data": {
            "text/html": [
              "<div>\n",
              "<style scoped>\n",
              "    .dataframe tbody tr th:only-of-type {\n",
              "        vertical-align: middle;\n",
              "    }\n",
              "\n",
              "    .dataframe tbody tr th {\n",
              "        vertical-align: top;\n",
              "    }\n",
              "\n",
              "    .dataframe thead tr th {\n",
              "        text-align: left;\n",
              "    }\n",
              "\n",
              "    .dataframe thead tr:last-of-type th {\n",
              "        text-align: right;\n",
              "    }\n",
              "</style>\n",
              "<table border=\"1\" class=\"dataframe\">\n",
              "  <thead>\n",
              "    <tr>\n",
              "      <th></th>\n",
              "      <th colspan=\"8\" halign=\"left\">score</th>\n",
              "    </tr>\n",
              "    <tr>\n",
              "      <th></th>\n",
              "      <th>count</th>\n",
              "      <th>mean</th>\n",
              "      <th>std</th>\n",
              "      <th>min</th>\n",
              "      <th>25%</th>\n",
              "      <th>50%</th>\n",
              "      <th>75%</th>\n",
              "      <th>max</th>\n",
              "    </tr>\n",
              "    <tr>\n",
              "      <th>if_pay</th>\n",
              "      <th></th>\n",
              "      <th></th>\n",
              "      <th></th>\n",
              "      <th></th>\n",
              "      <th></th>\n",
              "      <th></th>\n",
              "      <th></th>\n",
              "      <th></th>\n",
              "    </tr>\n",
              "  </thead>\n",
              "  <tbody>\n",
              "    <tr>\n",
              "      <th>NO cost with insurance</th>\n",
              "      <td>394.0</td>\n",
              "      <td>7.942766</td>\n",
              "      <td>0.864499</td>\n",
              "      <td>2.05</td>\n",
              "      <td>7.75</td>\n",
              "      <td>8.0</td>\n",
              "      <td>8.25</td>\n",
              "      <td>9.50</td>\n",
              "    </tr>\n",
              "    <tr>\n",
              "      <th>pay</th>\n",
              "      <td>268.0</td>\n",
              "      <td>7.713246</td>\n",
              "      <td>1.339861</td>\n",
              "      <td>1.85</td>\n",
              "      <td>7.75</td>\n",
              "      <td>8.0</td>\n",
              "      <td>8.25</td>\n",
              "      <td>9.25</td>\n",
              "    </tr>\n",
              "  </tbody>\n",
              "</table>\n",
              "</div>"
            ],
            "text/plain": [
              "                        score                                                 \n",
              "                        count      mean       std   min   25%  50%   75%   max\n",
              "if_pay                                                                        \n",
              "NO cost with insurance  394.0  7.942766  0.864499  2.05  7.75  8.0  8.25  9.50\n",
              "pay                     268.0  7.713246  1.339861  1.85  7.75  8.0  8.25  9.25"
            ]
          },
          "metadata": {
            "tags": []
          },
          "execution_count": 51
        }
      ]
    },
    {
      "cell_type": "code",
      "metadata": {
        "id": "SVitw-HtUKCa",
        "colab": {
          "base_uri": "https://localhost:8080/",
          "height": 410
        },
        "outputId": "47289842-9161-40aa-f556-fdde91e89fb3"
      },
      "source": [
        "df[['score','if_pay']].hist(by = 'if_pay',figsize= (20,6),bins =18)"
      ],
      "execution_count": null,
      "outputs": [
        {
          "output_type": "execute_result",
          "data": {
            "text/plain": [
              "array([<matplotlib.axes._subplots.AxesSubplot object at 0x7f8e4a6ccf90>,\n",
              "       <matplotlib.axes._subplots.AxesSubplot object at 0x7f8e4a6c0490>],\n",
              "      dtype=object)"
            ]
          },
          "metadata": {
            "tags": []
          },
          "execution_count": 52
        },
        {
          "output_type": "display_data",
          "data": {
            "image/png": "[encoded data removed]",
            "text/plain": [
              "<Figure size 1440x432 with 2 Axes>"
            ]
          },
          "metadata": {
            "tags": [],
            "needs_background": "light"
          }
        }
      ]
    },
    {
      "cell_type": "code",
      "metadata": {
        "id": "VSVBgeuInmmA"
      },
      "source": [
        "# group the consumers by paying or not\n",
        "pay = df[df['if_pay']=='pay']['score']\n",
        "no_pay = df[df['if_pay']!='pay']['score']"
      ],
      "execution_count": null,
      "outputs": []
    },
    {
      "cell_type": "code",
      "metadata": {
        "colab": {
          "base_uri": "https://localhost:8080/"
        },
        "id": "2TpJfekCpuGc",
        "outputId": "08e32d3e-d569-4ea0-efc1-1041650e2c8d"
      },
      "source": [
        "f_oneway(pay,no_pay)"
      ],
      "execution_count": null,
      "outputs": [
        {
          "output_type": "execute_result",
          "data": {
            "text/plain": [
              "F_onewayResult(statistic=7.173951145199635, pvalue=0.007581133348999159)"
            ]
          },
          "metadata": {
            "tags": []
          },
          "execution_count": 54
        }
      ]
    },
    {
      "cell_type": "markdown",
      "metadata": {
        "id": "SChNurLwq0vk"
      },
      "source": [
        "p < 0.01, so the difference between group is statistically significant. Treatment rating is depended on whether consumer paying money  or not."
      ]
    },
    {
      "cell_type": "code",
      "metadata": {
        "id": "yIKirLmhpnBD"
      },
      "source": [
        "# end with code"
      ],
      "execution_count": null,
      "outputs": []
    }
  ]
}